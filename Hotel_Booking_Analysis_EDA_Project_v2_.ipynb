{
  "nbformat": 4,
  "nbformat_minor": 0,
  "metadata": {
    "colab": {
      "private_outputs": true,
      "provenance": [],
      "collapsed_sections": [
        "w6K7xa23Elo4"
      ],
      "include_colab_link": true
    },
    "kernelspec": {
      "name": "python3",
      "display_name": "Python 3"
    },
    "language_info": {
      "name": "python"
    }
  },
  "cells": [
    {
      "cell_type": "markdown",
      "metadata": {
        "id": "view-in-github",
        "colab_type": "text"
      },
      "source": [
        "<a href=\"https://colab.research.google.com/github/Rashmi-Kulkarni/Hotel_Booking_Analysis_EDA_project/blob/main/Hotel_Booking_Analysis_EDA_Project_v2_.ipynb\" target=\"_parent\"><img src=\"https://colab.research.google.com/assets/colab-badge.svg\" alt=\"Open In Colab\"/></a>"
      ]
    },
    {
      "cell_type": "markdown",
      "source": [
        "# **Project Name**    - **Hotel Booking Analysis**\n",
        "\n"
      ],
      "metadata": {
        "id": "vncDsAP0Gaoa"
      }
    },
    {
      "cell_type": "markdown",
      "source": [
        "##### **Project Type**    - EDA\n",
        "##### **Contribution**    - Team\n",
        "\n",
        "##### **Team Member 1 -** Rashmi R. Kulkarni\n",
        "\n",
        "##### **Team Member 2 -** Abhishek Batagi\n",
        "##### **Team Member 3 -** Manasi Maurya\n"
      ],
      "metadata": {
        "id": "beRrZCGUAJYm"
      }
    },
    {
      "cell_type": "markdown",
      "source": [
        "# **Project Summary -**"
      ],
      "metadata": {
        "id": "FJNUwmbgGyua"
      }
    },
    {
      "cell_type": "markdown",
      "source": [
        "This project is related to **Hotel Booking Analysis** having two types of hotel description i.e City Hotel and Resort Hotel. This dataset is **structured** data which contains total rows 119390 and 32 columns.\n",
        "\n",
        "\n",
        "Our **workflow** is getting divided in three categories- **Data Collection ,Data cleaning and manipulation and EDA(Exploratory Data Analysis)**.\n",
        " For Data collection, required libraries are imported and then reading of dataset is done using pandas library. Once data is loaded, first step is reading and understanding data by manual inspection.Then different methods like head(),  info(), describe(), columns() for data understanding.\n",
        "\n",
        " **Data cleaning**, is the process of **finding and correcting inaccurate data** from a  data set. The primary goal is to identify and remove inconsistencies without deleting the necessary data to produce insights.\n",
        " Here null values are identified from dataset.Necessary replacement of null values is done here. Some rows with null values are also removed using drop() method,, without much affecting original data.As we further moved we find unique value of each columns and generate a list in tabular form and also\n",
        "\n",
        " Next step is **Data Wrangling**, Data cleaning focuses on removing inaccurate data from data set whereas data wrangling focuses on **transforming the data's format,mapping data from one format to another format to use that data to perform analyzing**, typically by converting “raw” data into another format more suitable for use.HEre during data wrangling 'children' and 'babies' columns are merged to form new **'kids'column**.We have checked the data type of each columns, necessary corrections of datatypes is done.\n",
        "\n",
        "\n",
        "  Outliers are checked and removed, if necessary.\n",
        "\n",
        "  Different charts like barchart,stacked barchart,scatter plot, pie chart, line chart,box plot, point plot, heatmap and pair plot are used for data visualization so that better insights and Business objective is attained.\n",
        "\n",
        "\n",
        "  **In this project customer anlysis, booking analysis,booking cancellation analysis,customer retention analysis and revenue analysis is done.This will help hoteliers for boosting their business**."
      ],
      "metadata": {
        "id": "F6v_1wHtG2nS"
      }
    },
    {
      "cell_type": "markdown",
      "source": [
        "# **GitHub Link -**"
      ],
      "metadata": {
        "id": "w6K7xa23Elo4"
      }
    },
    {
      "cell_type": "markdown",
      "source": [
        " GitHub Link here:\n",
        " https://github.com/Rashmi-Kulkarni/Hotel_Booking_Analysis_EDA_project\n",
        ""
      ],
      "metadata": {
        "id": "h1o69JH3Eqqn"
      }
    },
    {
      "cell_type": "markdown",
      "source": [
        "# **Problem Statement**\n"
      ],
      "metadata": {
        "id": "yQaldy8SH6Dl"
      }
    },
    {
      "cell_type": "markdown",
      "source": [
        "The Hotel sector is among the quickest developing enterprises on the planet. However, Hotel industry is facing some top challenges like Seasonality of Demand,Change in Customer Demands,Keeping Up with Technological Advancements,Retaining Clients,Cancellation of hotel booking.\n",
        "This project performs EDA(Exploratory Data Analysis) on the available dataset to reach helpful determinations about broad patterns and how factors governing hotel bookings interact with each other.\n"
      ],
      "metadata": {
        "id": "DpeJGUA3kjGy"
      }
    },
    {
      "cell_type": "markdown",
      "source": [
        "#### **Define Your Business Objective?**"
      ],
      "metadata": {
        "id": "PH-0ReGfmX4f"
      }
    },
    {
      "cell_type": "markdown",
      "source": [
        "Main objective of the project is to help hotel owners by giving insights from\n",
        "customer anlysis, booking analysis,booking cancellation analysis,customer retention analysis and revenue analysis done here.\n",
        "\n",
        "This will help hoteliers for boosting their business"
      ],
      "metadata": {
        "id": "PhDvGCAqmjP1"
      }
    },
    {
      "cell_type": "markdown",
      "source": [
        "# **General Guidelines** : -  "
      ],
      "metadata": {
        "id": "mDgbUHAGgjLW"
      }
    },
    {
      "cell_type": "markdown",
      "source": [
        "# ***Let's Begin !***"
      ],
      "metadata": {
        "id": "O_i_v8NEhb9l"
      }
    },
    {
      "cell_type": "markdown",
      "source": [
        "This informational collection contains **Hotel booking data for a city lodging** and **resort hotels**, for example, when the booking was made, length of stay, the quantity of grown-ups, youngsters, or potentially pampers, and the quantity of accessible parking spots etc.\n",
        "We are performing exploratory information examination with python to get understanding from the information."
      ],
      "metadata": {
        "id": "njNh_hPx2pIt"
      }
    },
    {
      "cell_type": "markdown",
      "source": [
        "#\t<font color='green'>Following points are discussed in Project\n",
        "\n",
        "---\n",
        "\n",
        "\n",
        "#\t**Customer Analysis**\n",
        "\n",
        "1) \tFrom which country most of the guests are coming ?- Chart 1\n",
        "\n",
        "2) \tFind percentage distribution of arrived guests between Resort hotels and country hotels?- Chart 2\n",
        "\n",
        "3) \tWhich type of hotels mostly booked for Adults with Children / babies?- Chart 2\n",
        "\n",
        "\n",
        "#\t**Booking Patterns**\n",
        "1) What is the  percentage of bookings in each hotel?- Chart 2\n",
        "\n",
        "2) Year wise booking in City hotels and Resort hotels -chart 3\n",
        "\n",
        "3) Monthwise hotel occupancy analysis in every year- chart 4a\n",
        "\n",
        "4) Which type of rooms are mostly preferred by Guests - Chart 5\n",
        "\n",
        "5) Weekend night bookings -Chart 11\n",
        "\n",
        "6) Weekday night bookings -Chart 11\n",
        "\n",
        "7) Finding Relationship of number of hotel booking with  Average Daily rate.-Chart 7b\n",
        "\n",
        "8) Finding relationship between lead time and hotel bookings- Chart 8\n",
        "\n",
        "#\t**Channel Analysis**\n",
        "1) \tWhich distribution channel gives most of early bookings? -Chart 12\n",
        "\n",
        "2) \tDistribution of bookings by market segment and customer type- Chart 13\n",
        "\n",
        "#\t**Pricing and Revenue**\n",
        "1)\tMonthwise revenue of hotels per year - Chart 4b\n",
        "\n",
        "2)\tWhich stays , weekend or weekdays , generates more revenue? Chart 14\n",
        "\n",
        "3)\tWhich room type is in most demand and which room type generates the  highest adr? - Chart 5\n",
        "\n",
        "#\t**Booking Cancellation Analysis**\n",
        "1)\tHow many bookings were cancelled?- Code\n",
        "\n",
        "2)\tWhich month has the highest number of cancelations? -chart 7\n",
        "\n",
        "3)\tChecking is there any relationship exist between number of 'cancelled booking' with 'Room allotment other than reserved' to guest ?- Chart 6\n",
        "\n",
        "4) Finding Relationship of Booking Cancellation with Average Daily Rate.-Chart 7\n",
        "\n",
        "5) Finding Relationship of Number of hotel bookings and Booking Cancellation- Chart 7\n",
        "\n",
        "6)\tFinding relationship between lead time, hotel bookings and booking cancellations.- Chart 8\n",
        "\n",
        "7) Relationship to deposit type with number of booking cancellations -Chart 9\n",
        "\n",
        "8)\tIs waiting list time affects cancellation of bookings?- Chart 10\n",
        "\n",
        "9)\tWeekend night booking cancellation - Chart 11\n",
        "\n",
        "10) Weekdays night booking cancellation - chart 11\n",
        "\n",
        "#\t**Customer Retention Analysis**\n",
        "  Find Chance in percentage that customer will return for another stay in same hotel?- code\n",
        "\n"
      ],
      "metadata": {
        "id": "Mfh_992TKRxA"
      }
    },
    {
      "cell_type": "markdown",
      "source": [
        "## ***1. Know Your Data***"
      ],
      "metadata": {
        "id": "HhfV-JJviCcP"
      }
    },
    {
      "cell_type": "markdown",
      "source": [
        "### **Import Libraries**"
      ],
      "metadata": {
        "id": "Y3lxredqlCYt"
      }
    },
    {
      "cell_type": "markdown",
      "source": [
        "Importing Data manipulation,Data Visualization libraries will help to work with the data.\n",
        "\n",
        "**Numpy:** To do highend calculation\n",
        "\n",
        "**Pandas:** work with Dataframes\n",
        "\n",
        "**Matplotlib and seaborn:** To visulize the data"
      ],
      "metadata": {
        "id": "iFiPy6BDocpu"
      }
    },
    {
      "cell_type": "code",
      "source": [
        "# Import Libraries\n",
        "import numpy as np\n",
        "import pandas as pd\n",
        "import matplotlib.pyplot as plt\n",
        "import seaborn as sns"
      ],
      "metadata": {
        "id": "M8Vqi-pPk-HR"
      },
      "execution_count": null,
      "outputs": []
    },
    {
      "cell_type": "markdown",
      "source": [
        "### **Dataset Loading**"
      ],
      "metadata": {
        "id": "3RnN4peoiCZX"
      }
    },
    {
      "cell_type": "markdown",
      "source": [
        "As dataset of Hotel Booking Analysis is stored on Google drive, to use it, first drive need to be mounted."
      ],
      "metadata": {
        "id": "v4koSHgopUOQ"
      }
    },
    {
      "cell_type": "code",
      "source": [
        "from google.colab import drive\n",
        "drive.mount('/content/drive')"
      ],
      "metadata": {
        "id": "rmlQQtNQymMY"
      },
      "execution_count": null,
      "outputs": []
    },
    {
      "cell_type": "code",
      "source": [
        "# Loading dataset in hba_df object. hba_df is acronym used here for Hotel Booking Analysis Data File\n",
        "filepath=\"/content/drive/MyDrive/Almabetter/EDA project- Hotel booking analysis/Hotel Bookings.csv\"\n",
        "hba_df=pd.read_csv(filepath)\n",
        "hba_df.head(5)"
      ],
      "metadata": {
        "id": "Pb-BAagS6xL8"
      },
      "execution_count": null,
      "outputs": []
    },
    {
      "cell_type": "markdown",
      "source": [
        "### **Dataset First View**"
      ],
      "metadata": {
        "id": "x71ZqKXriCWQ"
      }
    },
    {
      "cell_type": "code",
      "source": [
        "# Dataset First Look\n",
        "hba_df"
      ],
      "metadata": {
        "id": "LWNFOSvLl09H"
      },
      "execution_count": null,
      "outputs": []
    },
    {
      "cell_type": "markdown",
      "source": [
        "**Remark:**  This data describes data of two different types of hotels. One of the hotels is a resort hotel and the other is a city hotel.\n",
        "This includes information such as when the booking was made, length of stay, the number of adults, children, and/or babies, and the number of available parking spaces, cancellation of booking,type of rooms booked, number of nights booked."
      ],
      "metadata": {
        "id": "yPyC1SPwM2bq"
      }
    },
    {
      "cell_type": "markdown",
      "source": [
        "### **Dataset Rows & Columns count**"
      ],
      "metadata": {
        "id": "7hBIi_osiCS2"
      }
    },
    {
      "cell_type": "code",
      "source": [
        "# Dataset Rows & Columns count\n",
        "hba_df.shape"
      ],
      "metadata": {
        "id": "Kllu7SJgmLij"
      },
      "execution_count": null,
      "outputs": []
    },
    {
      "cell_type": "markdown",
      "source": [
        "Remark- This Data set contains **119390 rows and 32 columns**"
      ],
      "metadata": {
        "id": "GXvj0C4yDcFn"
      }
    },
    {
      "cell_type": "markdown",
      "source": [
        "### **Dataset Information**"
      ],
      "metadata": {
        "id": "JlHwYmJAmNHm"
      }
    },
    {
      "cell_type": "code",
      "source": [
        "# Dataset Info\n",
        "\"\"\"The information contains the number of columns, column labels, column data types, memory usage, range index, and\n",
        "the number of cells in each column (non-null values) of dataset\"\"\"\n",
        "hba_df.info()"
      ],
      "metadata": {
        "id": "e9hRXRi6meOf"
      },
      "execution_count": null,
      "outputs": []
    },
    {
      "cell_type": "markdown",
      "source": [
        "Remark:\n",
        "\n",
        "1. Out of 32 columns **'country' column, 'agent'column, 'company'\n",
        "column and 'children' column** has some null values.\n",
        "2. Dtype of 'childern' column can be changed from float64 to int64 to save required memory space"
      ],
      "metadata": {
        "id": "qicX37-sPYEF"
      }
    },
    {
      "cell_type": "markdown",
      "source": [
        "#### **Duplicate Values**"
      ],
      "metadata": {
        "id": "35m5QtbWiB9F"
      }
    },
    {
      "cell_type": "code",
      "source": [
        "# Removing  Duplicate rows\n",
        "\"\"\" As it is possible to occupy hotel room  in same type of hotel, from same country, through same segment,\n",
        "for same number of persons, on same date,Hence we assume available dataset has no duplicate records even though it may appear\"\"\"\n"
      ],
      "metadata": {
        "id": "1sLdpKYkmox0"
      },
      "execution_count": null,
      "outputs": []
    },
    {
      "cell_type": "markdown",
      "source": [
        "#### **Missing Values/Null Values**"
      ],
      "metadata": {
        "id": "PoPl-ycgm1ru"
      }
    },
    {
      "cell_type": "code",
      "source": [
        "# Missing Values/Null Values Count\n",
        "hba_df.isnull().sum()"
      ],
      "metadata": {
        "id": "GgHWkxvamxVg"
      },
      "execution_count": null,
      "outputs": []
    },
    {
      "cell_type": "markdown",
      "source": [
        "**Remark:**\n",
        "Out of 32 columns\n",
        "\n",
        "'children' column has 4 null values\n",
        "\n",
        "'country' column has 488 null values\n",
        "\n",
        "'agent' column has 16340 null values\n",
        "\n",
        "'company' column has 112593 null values\n"
      ],
      "metadata": {
        "id": "uhiQPmoeZ0Zz"
      }
    },
    {
      "cell_type": "code",
      "source": [
        "#Above null values can be displayed using heatmap visualization as follows\n",
        "plt.figure(figsize = (7,3))\n",
        "\n",
        "missing_values = hba_df.isnull()\n",
        "sns.heatmap(missing_values, cmap='inferno')\n",
        "\n",
        "plt.title(\"Missing Data Heatmap\")\n",
        "plt.show()"
      ],
      "metadata": {
        "id": "4mBlprx81WJH"
      },
      "execution_count": null,
      "outputs": []
    },
    {
      "cell_type": "markdown",
      "source": [
        "### **Handling Null Values**\n",
        "\n",
        "AS 'company' column has 112593 null values, here null values in column 'company'are replaced by 0. One can also remove this column as most of data in this column is missing.\n",
        "\n",
        "Null values in column 'agent' are replaced by 0.\n",
        "\n",
        "Null values in column 'country' are replaced by 'others'.\n",
        "\n",
        "'Children' column has 4 rows with the NaN values. 4 rows out of 119390 is negligible hence we will just remove it."
      ],
      "metadata": {
        "id": "hRfV5bpadPNm"
      }
    },
    {
      "cell_type": "code",
      "source": [
        "# Handling Null Values\n",
        "# Null values in columns 'company' and 'agent' are replaced by 0\n",
        "hba_df[['company','agent']] = hba_df[['company','agent']].fillna(0)"
      ],
      "metadata": {
        "id": "3q5wnI3om9sJ"
      },
      "execution_count": null,
      "outputs": []
    },
    {
      "cell_type": "code",
      "source": [
        "#Verification of replaced values\n",
        "hba_df[['company','agent']].isna().sum()"
      ],
      "metadata": {
        "id": "v4krZJ77snbA"
      },
      "execution_count": null,
      "outputs": []
    },
    {
      "cell_type": "code",
      "source": [
        "# Null values in column 'country' are replaced by 'others'\n",
        "hba_df['country'] = hba_df['country'].fillna('others')"
      ],
      "metadata": {
        "id": "vnrwuT7ftvTp"
      },
      "execution_count": null,
      "outputs": []
    },
    {
      "cell_type": "code",
      "source": [
        "#Verification of replaced values\n",
        "hba_df['country'].isna().sum()"
      ],
      "metadata": {
        "id": "2H2XH59buN90"
      },
      "execution_count": null,
      "outputs": []
    },
    {
      "cell_type": "code",
      "source": [
        "#Dropping remaining 4 null value rows\n",
        "hba_df=hba_df.dropna(subset='children')\n",
        "\n",
        "#Verification of is all null values filled or Not?\n",
        "hba_df.isnull().sum()"
      ],
      "metadata": {
        "id": "mJ7FR2C_xcOG"
      },
      "execution_count": null,
      "outputs": []
    },
    {
      "cell_type": "code",
      "source": [
        "hba_df.shape"
      ],
      "metadata": {
        "id": "WAEI0gaCzNiq"
      },
      "execution_count": null,
      "outputs": []
    },
    {
      "cell_type": "markdown",
      "source": [
        "**Remark:\n",
        "Now dataset is clean. It is not containing any null value.**"
      ],
      "metadata": {
        "id": "RWyRnKfbzUaq"
      }
    },
    {
      "cell_type": "markdown",
      "source": [
        "### **Removing wrong data**"
      ],
      "metadata": {
        "id": "fMmIz6be3KEU"
      }
    },
    {
      "cell_type": "markdown",
      "source": [
        "Adults, babies, and children can’t be zero at the same time, so dropping the rows having all these zero at the same time because will mean that the hotel/room was not even booked."
      ],
      "metadata": {
        "id": "6HtBV_n0Jl-J"
      }
    },
    {
      "cell_type": "code",
      "source": [
        "filter = (hba_df.children == 0) & (hba_df.adults == 0) & (hba_df.babies == 0)\n",
        "hba_df[~filter]"
      ],
      "metadata": {
        "id": "OzdclrrcJMkk"
      },
      "execution_count": null,
      "outputs": []
    },
    {
      "cell_type": "code",
      "source": [
        "# Dtype of 'childern' column  changed from float64 to int64 to save required memory space\n",
        "hba_df['children']=hba_df['children'].astype(int)"
      ],
      "metadata": {
        "id": "purrUz5I0RSs"
      },
      "execution_count": null,
      "outputs": []
    },
    {
      "cell_type": "code",
      "source": [
        "# Verification of changed data type\n",
        "hba_df['children'].dtype"
      ],
      "metadata": {
        "id": "X88h_D880p-g"
      },
      "execution_count": null,
      "outputs": []
    },
    {
      "cell_type": "markdown",
      "source": [
        "### **What did you know about your dataset?**"
      ],
      "metadata": {
        "id": "H0kj-8xxnORC"
      }
    },
    {
      "cell_type": "markdown",
      "source": [
        "This Hotel bookings dataset contains **119390 rows and 32 columns**. After cleaning we have **119206 rows and 32 columns** to work with."
      ],
      "metadata": {
        "id": "gfoNAAC-nUe_"
      }
    },
    {
      "cell_type": "markdown",
      "source": [
        "This dataset contains booking information for a city hotel and a resort hotel. It contains the following information.\n",
        "1. **Hotel**: Resort hotel or city hotel\n",
        "2. **Is_canceled**: 1 or 0 (Booking cancelled or not cancelled)\n",
        "3. **Lead_time**: time (in days) between booking transaction and actual arrival\n",
        "4. **arrival_date_year**: Year of arrival\n",
        "5. **arrival_date_month**: month of arrival\n",
        "6. **arrival_date_week_number**: week number of arrival date\n",
        "7. **arrival_date_day_of_month**: Day of month of arrival date\n",
        "8. **stays_in_weekend_nights**: No. of weekend nights spent in a hotel\n",
        "9. **stays_in_week_nights**: No. of weeknights spent in a hotel\n",
        "10. **Adults, Babies, children**: Number of Adults, Babies, children\n",
        "11. **meal**: Type of meal chosen\n",
        "12. **country**: Country of origin of customers (as mentioned by them)\n",
        "13. **market_segment**: What segment via booking was made and for what purpose\n",
        "14. **distribution_channel**: Via which medium booking was made.\n",
        "15. **is_repeated_guest**: Whether the customer has made any booking before(0 for No and 1 for Yes)\n",
        "16. **previous_cancellations**: No. of previous canceled bookings.\n",
        "17. **previous_bookings_not_canceled**: No. of previous non-canceled bookings.\n",
        "18. **reserved_room_type**: Room type reserved by a customer.\n",
        "19. **assigned_room_type**: Room type assigned to the customer.\n",
        "20. **booking_changes**: No. of booking changes done by customers\n",
        "21. **deposit_type**: Type of deposit at the time of making a booking (No deposit/ Refundable/ No refund)\n",
        "22. **agent**: Id of agent for booking\n",
        "23. **company**: Id of the company making a booking\n",
        "24. **days_in_waiting_list**: No. of days on waiting list.\n",
        "25. **customer_type**: Type of customer(Transient, Group, etc.)\n",
        "26. **adr**: Average Daily rate.\n",
        "27. **required_car_parking_spaces**: No. of car parking asked in booking\n",
        "28. **total_of_special_requests**: total no. of special request.\n",
        "29. **reservation_status**: Whether a customer has checked out or canceled,or not showed\n",
        "30. **reservation_status_date**: Date of making reservation status."
      ],
      "metadata": {
        "id": "U_kaAs9e6GV6"
      }
    },
    {
      "cell_type": "markdown",
      "source": [
        "## ***2. Understanding Your Variables***"
      ],
      "metadata": {
        "id": "nA9Y7ga8ng1Z"
      }
    },
    {
      "cell_type": "code",
      "source": [
        "# Displaying all column names of dataset hba_df\n",
        "list(hba_df.columns)"
      ],
      "metadata": {
        "id": "j7xfkqrt5Ag5"
      },
      "execution_count": null,
      "outputs": []
    },
    {
      "cell_type": "code",
      "source": [
        "# Dataset Describe\n",
        "hba_df.describe()"
      ],
      "metadata": {
        "id": "DnOaZdaE5Q5t"
      },
      "execution_count": null,
      "outputs": []
    },
    {
      "cell_type": "markdown",
      "source": [
        "### Variables Description"
      ],
      "metadata": {
        "id": "PBTbrJXOngz2"
      }
    },
    {
      "cell_type": "markdown",
      "source": [
        "**Remark**:\n",
        "Description of numerical columns of dataset in form of mean value, standard deviation, minimum value, maximum value is displayed above.Total 119206 rows are evaluated.\n",
        "\n",
        "Maximum lead time in number of days is 737.\n",
        "\n",
        "Longest stay on weekend nights is of 19 days.\n",
        "\n",
        "Longest stay on week nights is of 50 days.\n",
        "\n",
        "Highest Adr value is 5400.\n",
        "\n",
        "Minimum Adr value is **-6.38 which practically not possible**. We can treat it as outlier.\n",
        "\n",
        "Maximum number times, the previous booking cancelled was 26.\n",
        "\n",
        "This database is of 3 years, from **year 2015 to year 2017**, this value is calculated from min and max values of arrival year column,"
      ],
      "metadata": {
        "id": "URSYC5klD5fY"
      }
    },
    {
      "cell_type": "markdown",
      "source": [
        "### **Check Unique Values for each variable.**"
      ],
      "metadata": {
        "id": "u3PMJOP6ngxN"
      }
    },
    {
      "cell_type": "code",
      "source": [
        "# Check Unique Values for each variable.\n",
        "hba_df['hotel'].unique()"
      ],
      "metadata": {
        "id": "zms12Yq5n-jE"
      },
      "execution_count": null,
      "outputs": []
    },
    {
      "cell_type": "markdown",
      "source": [
        "Remark: Two types of hotels considered here, **Resort Hotel** and **City Hotel**"
      ],
      "metadata": {
        "id": "4spTVgdkgMI0"
      }
    },
    {
      "cell_type": "code",
      "source": [
        "hba_df['is_canceled'].unique()"
      ],
      "metadata": {
        "id": "ZE7pdhlqgfE9"
      },
      "execution_count": null,
      "outputs": []
    },
    {
      "cell_type": "markdown",
      "source": [
        "Remark: Hotel booking cancelled or Not is mentioned here by binary format. '1' means booking cancelled and '0' means booking not cancelled"
      ],
      "metadata": {
        "id": "-KIWwTbAgw5P"
      }
    },
    {
      "cell_type": "code",
      "source": [
        "hba_df['arrival_date_year'].unique()"
      ],
      "metadata": {
        "id": "8PACM9ZRhE6a"
      },
      "execution_count": null,
      "outputs": []
    },
    {
      "cell_type": "markdown",
      "source": [
        "Remark:Data of 3 years of customer hotel booking is considered, **2015 to 2017**."
      ],
      "metadata": {
        "id": "nMj2_54GhN1d"
      }
    },
    {
      "cell_type": "code",
      "source": [
        "hba_df['meal'].unique()"
      ],
      "metadata": {
        "id": "1tu5iCQrh0C4"
      },
      "execution_count": null,
      "outputs": []
    },
    {
      "cell_type": "markdown",
      "source": [
        "Remark: 5 Different unique value for meals are considered"
      ],
      "metadata": {
        "id": "pzTvKlv8iD3E"
      }
    },
    {
      "cell_type": "code",
      "source": [
        "hba_df['market_segment'].unique()"
      ],
      "metadata": {
        "id": "i6iOLknHiOYN"
      },
      "execution_count": null,
      "outputs": []
    },
    {
      "cell_type": "markdown",
      "source": [
        "Remark: .\n",
        "- Hotel market segmentation is the process of grouping hotel guests into categories based on their booking patterns and travel habits. By segmenting hotel guests into market groups, hoteliers are able to identify where their business is coming from, spot new business in the area, and drive hotel revenue.\n",
        "\n",
        "TA:- Travel Agent\n",
        "TO:- Tour operation\n",
        "Group: One of the largest hotel market segments, group business refers to a block of rooms, typically booked and coordinated by a primary group contact, reserved at a discounted rate."
      ],
      "metadata": {
        "id": "pvdLvMWti7rx"
      }
    },
    {
      "cell_type": "code",
      "source": [
        "hba_df['distribution_channel'].unique()"
      ],
      "metadata": {
        "id": "MUwzO8pRsP0w"
      },
      "execution_count": null,
      "outputs": []
    },
    {
      "cell_type": "markdown",
      "source": [
        "Remark:\n",
        "A hotel distribution channel can be any method or platform by which hotelier sells hotel rooms.\n",
        "\n",
        "Distribution channels are categorized into 5 types"
      ],
      "metadata": {
        "id": "Hu4-xii2sgp6"
      }
    },
    {
      "cell_type": "code",
      "source": [
        "hba_df['country'].unique()"
      ],
      "metadata": {
        "id": "6PY27VFjs0HL"
      },
      "execution_count": null,
      "outputs": []
    },
    {
      "cell_type": "code",
      "source": [
        "hba_df.groupby('country')['country'].count()"
      ],
      "metadata": {
        "id": "XH-VuT1stBI-"
      },
      "execution_count": null,
      "outputs": []
    },
    {
      "cell_type": "markdown",
      "source": [
        "Remark: Guest are coming from different 178 countries"
      ],
      "metadata": {
        "id": "0WUbKBPhwaZw"
      }
    },
    {
      "cell_type": "markdown",
      "source": [
        "## 3. ***Data Wrangling***"
      ],
      "metadata": {
        "id": "dauF4eBmngu3"
      }
    },
    {
      "cell_type": "markdown",
      "source": [
        "### Data Wrangling Code"
      ],
      "metadata": {
        "id": "bKJF3rekwFvQ"
      }
    },
    {
      "cell_type": "code",
      "source": [
        "#Lets combine children and babies together as kids\n",
        "hba_df['Kids'] = hba_df.children + hba_df.babies\n",
        "\n",
        "#Making new column as  'total mumbers' by adding kids and adults\n",
        "hba_df['total_members'] = hba_df.Kids + hba_df.adults\n",
        "hba_df['total_members']"
      ],
      "metadata": {
        "id": "rYmvru2cT-6q"
      },
      "execution_count": null,
      "outputs": []
    },
    {
      "cell_type": "code",
      "source": [
        "#some important cloumns counting the values\n",
        "hba_df['hotel'].value_counts()"
      ],
      "metadata": {
        "id": "-FIAixtjWIOY"
      },
      "execution_count": null,
      "outputs": []
    },
    {
      "cell_type": "code",
      "source": [
        "hba_df['market_segment'].value_counts().sort_values(ascending=False)"
      ],
      "metadata": {
        "id": "0coqORSUWRNH"
      },
      "execution_count": null,
      "outputs": []
    },
    {
      "cell_type": "code",
      "source": [
        "hba_df['customer_type'].value_counts()"
      ],
      "metadata": {
        "id": "qBSBk16gWtnN"
      },
      "execution_count": null,
      "outputs": []
    },
    {
      "cell_type": "code",
      "source": [
        "#From which country most of the guests are coming ?\n",
        "hba_df['country'].value_counts().sort_values(ascending=False).head(5)"
      ],
      "metadata": {
        "id": "Bms9JiJeXAUh"
      },
      "execution_count": null,
      "outputs": []
    },
    {
      "cell_type": "markdown",
      "source": [
        "Remark: Top 5 coutries from which most of guest are booking hotels are PRT,GBR,FRA,ESP,EDU.\n",
        "Highest guest are from PRT and that are 48586"
      ],
      "metadata": {
        "id": "qvFm3fVKGU6E"
      }
    },
    {
      "cell_type": "code",
      "source": [
        "hba_df['is_canceled'].value_counts()"
      ],
      "metadata": {
        "id": "xvw2IAoNXelZ"
      },
      "execution_count": null,
      "outputs": []
    },
    {
      "cell_type": "markdown",
      "source": [
        "Remark:Total 44220 booking are cancelled"
      ],
      "metadata": {
        "id": "KIcje7foXldn"
      }
    },
    {
      "cell_type": "markdown",
      "source": [
        "**Customer Retention Analysis**:\n",
        "  Find Chance in percentage that customer will return for another stay in same hotel?\n",
        "\n",
        "---\n",
        "\n"
      ],
      "metadata": {
        "id": "1UywnIULnt3c"
      }
    },
    {
      "cell_type": "code",
      "source": [
        "# Calculate the count of repeated guests\n",
        "repeated_guests = hba_df[hba_df['is_repeated_guest'] == 1]['is_repeated_guest'].count()\n",
        "\n",
        "# Calculate the count of unique customers\n",
        "unique_customers = hba_df['is_repeated_guest'].count()\n",
        "\n",
        "# Calculate the repeat booking rate\n",
        "repeat_booking_rate = (repeated_guests / unique_customers) * 100\n",
        "\n",
        "# Print the result\n",
        "print(\"The chance that a customer will return for another stay (repeat booking rate): {:.2f}%\".format(repeat_booking_rate))"
      ],
      "metadata": {
        "id": "prhCWF-fMpN0"
      },
      "execution_count": null,
      "outputs": []
    },
    {
      "cell_type": "markdown",
      "source": [
        "### What all manipulations have you done and insights you found?"
      ],
      "metadata": {
        "id": "MSa1f5Uengrz"
      }
    },
    {
      "cell_type": "markdown",
      "source": [
        "Till now\n",
        "- **Null values** in column 'company'are replaced by 0.  Null values in column 'agent' are replaced by 0. Null values in column 'country' are replaced by 'others'. 'Children' column has 4 rows with the NaN values. 4 rows out of 119390 is negligible hence we will just remove it.\n",
        "- Adults, babies, and children can’t be zero at the same time, so droped the rows having all these values zero at the same time because It means that the hotel/room was not even booked.\n",
        "- **Description** of numerical columns of dataset in form of mean value, standard deviation, minimum value, maximum value is displayed using describe method.Total 119206 rows are evaluated.This database is of 3 years, from **year 2015 to year 2017**, this value is calculated from min and max values of arrival year column.\n",
        "- Unique values of each column are observed by applying 'unique' method on each column.\n",
        "- From unique value calculation it is observed that,Two types of hotels considered here, **Resort Hotel** and **City Hotel**.Hotel booking cancelled or Not is mentioned here by boolean format. '1' means booking cancelled and '0' means booking not cancelled. 5 Different meal types are prefered by guests.\n",
        "- Guest are coming from Online travel Agency market segment,Offline travel Agency market segment,Direct, corporate market segment,Groups, Complementory, Aviation. Distribution channels are categorized into 5 types.\n",
        "- Guests are coming from diferent 178 countries. Top 5 coutries from which most of guest are booking hotels are PRT,GBR,FRA,ESP,EDU.Highest guest are from PRT and that are 48586.\n",
        "- 79326 bookings are done in city hotels and 40060 bookings done in Resort hotels. Total 44220 booking are cancelled.\n",
        "- Based on all these we tried to answer some questions which will help in growing hotel business.\n"
      ],
      "metadata": {
        "id": "LbyXE7I1olp8"
      }
    },
    {
      "cell_type": "markdown",
      "source": [
        "## ***4. Data Vizualization, Storytelling & Experimenting with charts : Understand the relationships between variables***"
      ],
      "metadata": {
        "id": "GF8Ens_Soomf"
      }
    },
    {
      "cell_type": "markdown",
      "source": [
        "#### <font color=\"magenta\">Chart - 1- Tourist arrival from different countries<font>"
      ],
      "metadata": {
        "id": "0wOQAZs5pc--"
      }
    },
    {
      "cell_type": "markdown",
      "source": [
        "<font color=\"red\">**Que:-From which country most of the guests are arrived ?**\n",
        "\n",
        "---\n",
        "\n"
      ],
      "metadata": {
        "id": "5Z5N4wnuls2G"
      }
    },
    {
      "cell_type": "code",
      "source": [
        "#Data preparation\n",
        "#Considering the whole data here (including cancellations) since this analysis is to understand the guest preference.\n",
        "#Filtering data countrywise and arranging it in descending order\n",
        "\n",
        "hotelguests=hba_df.groupby('country')['total_members'].sum().sort_values(ascending =False)\n",
        "hotelguests"
      ],
      "metadata": {
        "id": "Hr3Je__lPM_d"
      },
      "execution_count": null,
      "outputs": []
    },
    {
      "cell_type": "code",
      "source": [
        "# Chart - 1 visualization code\n",
        "# Relationship of country with number of hotel guests\n",
        "#Since there are guests from almost 178 countries, Just showing the top 10 countries the guests are from, here.we have used sns.color_palette() for proper visualization.\n",
        "\n",
        "hotelguests=hba_df.groupby('country')['total_members'].sum().sort_values(ascending=False).head(10)\n",
        "sns.set_style('darkgrid')\n",
        "plt.xticks(rotation=90)\n",
        "hotelguests.plot(kind='bar',title=' Guests arrival from different countires', ylabel='Number of Guests', xlabel='Name of Country', figsize=(10,6),color=sns.color_palette(\"bright\", 10))\n",
        "plt.show()"
      ],
      "metadata": {
        "id": "7v_ESjsspbW7"
      },
      "execution_count": null,
      "outputs": []
    },
    {
      "cell_type": "markdown",
      "source": [
        "##### 1. Why did you pick the specific chart?"
      ],
      "metadata": {
        "id": "K5QZ13OEpz2H"
      }
    },
    {
      "cell_type": "markdown",
      "source": [
        "Bar Chart is used for Bivariate Analysis. How much is contribution of each contry guests, in hotel booking is analysed here."
      ],
      "metadata": {
        "id": "XESiWehPqBRc"
      }
    },
    {
      "cell_type": "markdown",
      "source": [
        "##### 2. What is/are the insight(s) found from the chart?"
      ],
      "metadata": {
        "id": "lQ7QKXXCp7Bj"
      }
    },
    {
      "cell_type": "markdown",
      "source": [
        "This shows us the top 10 countries from where the bookings are made.PRT — Portugal, GBR — United Kingdom, FRA — France, ESP — Spain, DEU — Germany, ITA — Italy, IRL — Ireland, BEL — Belgium, BRA — Brazil, USA — United States of America."
      ],
      "metadata": {
        "id": "C_j1G7yiqdRP"
      }
    },
    {
      "cell_type": "markdown",
      "source": [
        "##### 3. Will the gained insights help creating a positive business impact?\n",
        "Are there any insights that lead to negative growth? Justify with specific reason."
      ],
      "metadata": {
        "id": "448CDAPjqfQr"
      }
    },
    {
      "cell_type": "markdown",
      "source": [
        "- It is found here hotels are getting most of business from PRT — Portugal, GBR — United Kingdom, FRA — France, ESP — Spain, DEU — Germany, ITA — Italy, IRL — Ireland, BEL — Belgium, BRA — Brazil, USA — United States of America.\n",
        "- Hotel Owners can try for **Organize events** during **popular festive seasons** of countries to attract more number of guests.\n",
        "- Events and activities are one of the biggest causes of seasonality as events are a great way to attract people. Hotellers can use this to their advantage, especially **during the low season** when people have nothing much to do. From **hosting  events, like local food fest** to collaborating with local authorities by sponsoring a popular event, options to attract guests through events are endless. In Goa,India hotels are more crowdy during Xmas season and for welcoming New year.Most of hotels in Goa arrange, special  local fare and Goan food, Adventure Water Sports,Breathtaking Beach parties etc. to gear up tourism."
      ],
      "metadata": {
        "id": "3cspy4FjqxJW"
      }
    },
    {
      "cell_type": "markdown",
      "source": [
        "<font color=\"magenta\">#### **Chart - 2**"
      ],
      "metadata": {
        "id": "KSlN3yHqYklG"
      }
    },
    {
      "cell_type": "markdown",
      "source": [
        "<font color=\"red\">**Que:-Find percentage distribution of arrived guests between Resort hotels and city hotels.**::\n",
        "\n",
        "<font color=\"red\">**Que:-Which hotels are preferred most , Resort hotels or City Hotels, by families with kids?**\n",
        "\n",
        "---\n",
        "\n"
      ],
      "metadata": {
        "id": "TXhH49VImwc9"
      }
    },
    {
      "cell_type": "code",
      "source": [
        "# Finding tourist distribution between city hotel and resort hotel\n",
        "hba_df['hotel'].value_counts().tolist()"
      ],
      "metadata": {
        "id": "5AswdVkgQu0J"
      },
      "execution_count": null,
      "outputs": []
    },
    {
      "cell_type": "code",
      "source": [
        "hba_df['hotel'].value_counts().index.tolist()"
      ],
      "metadata": {
        "id": "H_8_L1UTQydt"
      },
      "execution_count": null,
      "outputs": []
    },
    {
      "cell_type": "markdown",
      "source": [
        "Index.tolist() function return a list of the values.Here we used Index.tolist() function to convert the index into a list."
      ],
      "metadata": {
        "id": "nIUDcR_DRDut"
      }
    },
    {
      "cell_type": "code",
      "source": [
        "# Chart - 2 visualization code\n",
        "#finding the percentage of type of hotel booked\n",
        "#Here the startangle is set to 90 which means the chart is rotated by 90 degrees and the chart starts at the positive Y axis.\n",
        "plt.pie(hba_df['hotel'].value_counts().tolist(),labels = hba_df['hotel'].value_counts().index.tolist(),autopct='%1.1f%%',startangle =90,textprops={'fontsize': 14})\n",
        "plt.title(\"Tourists \",fontweight=\"bold\", size=14)\n",
        "plt.show()"
      ],
      "metadata": {
        "id": "R4YgtaqtYklH"
      },
      "execution_count": null,
      "outputs": []
    },
    {
      "cell_type": "markdown",
      "source": [
        "\n",
        "### <font color=\"Orange\">Checking accomadation of kids for Resort hotels and city hotels seperately"
      ],
      "metadata": {
        "id": "C3b-Unw0sLk2"
      }
    },
    {
      "cell_type": "code",
      "source": [
        "# Checking distribution\n",
        "#Keeping rows which contains information of of Resort hotels only\n",
        "hba_df_resort_only=hba_df[hba_df['hotel']== 'Resort Hotel']\n",
        "hba_df_resort_only.shape"
      ],
      "metadata": {
        "id": "i8CgZywdwgJV"
      },
      "execution_count": null,
      "outputs": []
    },
    {
      "cell_type": "code",
      "source": [
        "#Lets combine children and babies together as kids\n",
        "hba_df_resort_only.loc[:,'kids'] = hba_df_resort_only.loc[:,'children'] + hba_df_resort_only.loc[:,'babies']\n",
        "m= len(hba_df_resort_only['adults'])\n",
        "hba_df_resort_only['family']=hba_df_resort_only['adults']\n",
        "for i in range(0,m):\n",
        "  if hba_df_resort_only.loc[:,'kids'][i] != 0 :\n",
        "    hba_df_resort_only.loc[:,'family'][i] = 'With Kids'\n",
        "  else:\n",
        "    hba_df_resort_only.loc[:,'family'][i] = 'Without kids'\n",
        "hba_df_resort_only['family']"
      ],
      "metadata": {
        "id": "cap3nC0Xx9BQ"
      },
      "execution_count": null,
      "outputs": []
    },
    {
      "cell_type": "code",
      "source": [
        "hba_df_resort_only['family'].value_counts().tolist()"
      ],
      "metadata": {
        "id": "X2oBXd8c8rtd"
      },
      "execution_count": null,
      "outputs": []
    },
    {
      "cell_type": "code",
      "source": [
        "hba_df_resort_only['family'].value_counts().index.tolist()"
      ],
      "metadata": {
        "id": "soWbeizl8xBQ"
      },
      "execution_count": null,
      "outputs": []
    },
    {
      "cell_type": "code",
      "source": [
        "#Keeping rows which contains information of of city hotels only\n",
        "hba_df_city_only_f=hba_df[hba_df['hotel'] == 'City Hotel']\n",
        "hba_df_city_only_f.columns"
      ],
      "metadata": {
        "id": "XJLwYH-c_asN"
      },
      "execution_count": null,
      "outputs": []
    },
    {
      "cell_type": "code",
      "source": [
        "#Lets combine children and babies together as kids in data frame which contains 'City hotels' data only\n",
        "hba_df_city_only_f['kids1_city'] = hba_df_city_only_f.loc[:,'children'] + hba_df_city_only_f.loc[:,'babies']\n",
        "hba_df_city_only_f['kids1_city']"
      ],
      "metadata": {
        "id": "rDmOGRr2_u8w"
      },
      "execution_count": null,
      "outputs": []
    },
    {
      "cell_type": "code",
      "source": [
        "#Checking is kids1_city column created in hba_df_ch database?\n",
        "hba_df_city_only_f.columns"
      ],
      "metadata": {
        "id": "r5rW5WL8D7Qn"
      },
      "execution_count": null,
      "outputs": []
    },
    {
      "cell_type": "code",
      "source": [
        "# make counter for for loop\n",
        "j= len(hba_df_city_only_f['adults'])\n",
        "j"
      ],
      "metadata": {
        "id": "ucdDYzuZClVI"
      },
      "execution_count": null,
      "outputs": []
    },
    {
      "cell_type": "code",
      "source": [
        "hba_df_city_only_f['family1_city']=hba_df_city_only_f['adults']\n",
        "hba_df_city_only_f['family1_city']\n"
      ],
      "metadata": {
        "id": "j2omYMYSOYI-"
      },
      "execution_count": null,
      "outputs": []
    },
    {
      "cell_type": "code",
      "source": [
        "hba_df_city_only_f.iloc[:,32:36]"
      ],
      "metadata": {
        "id": "rRfFlPptDhJc"
      },
      "execution_count": null,
      "outputs": []
    },
    {
      "cell_type": "code",
      "source": [
        "#from pandas.io import json\n",
        "# Writing values of 'family1' column as'with kids' when room booked by family is with kids else 'without kids'\n",
        "# column 32 is 'kids1' column and column 33 is 'family1' column\n",
        "for i in range(0,j):\n",
        "  if hba_df_city_only_f.iloc[i,35] != 0 :\n",
        "    hba_df_city_only_f.iloc[i,34] = 'With Kids'\n",
        "  else:\n",
        "    hba_df_city_only_f.iloc[i,34] = 'Without kids'\n"
      ],
      "metadata": {
        "id": "ao3M3WlbP0bv"
      },
      "execution_count": null,
      "outputs": []
    },
    {
      "cell_type": "code",
      "source": [
        " hba_df_city_only_f['family1_city'].value_counts().tolist()"
      ],
      "metadata": {
        "id": "PRmwXo9UCwWH"
      },
      "execution_count": null,
      "outputs": []
    },
    {
      "cell_type": "code",
      "source": [
        "hba_df_city_only_f['family1_city'].value_counts().index.tolist()"
      ],
      "metadata": {
        "id": "wX6GW4vzRcHd"
      },
      "execution_count": null,
      "outputs": []
    },
    {
      "cell_type": "code",
      "source": [
        "#Visualization code\n",
        "sns.set(rc = {'figure.figsize':(11,5)})\n",
        "plt.subplot(1, 2, 1)\n",
        "#title\n",
        "plt.figtext(0.2, 0.75, \"Resort Hotel-\", fontsize='large', color='r', ha ='right',fontweight=\"bold\")# Display title's some words in red color.\n",
        "plt.figtext(0.2, 0.75, \"Stay of tourist with and without kids\", fontsize='large', color='k', ha ='left') # Display title's rest of words in black color.\n",
        "#colors of sectors\n",
        "colors = ['orange',  'steelblue']\n",
        "#highlighting 'With Kids' sector\n",
        "explode = (0.0, 0.2)\n",
        "plt.pie(hba_df_resort_only['family'].value_counts().tolist(),labels = hba_df_resort_only['family'].value_counts().index.tolist(),autopct='%1.1f%%',textprops={'fontsize': 12}, colors= colors, explode=explode)\n",
        "#legend display\n",
        "plt.legend(['Without Kids','With Kids'],loc=1)\n",
        "plt.subplot(1, 2, 2)\n",
        "colors = ['orange',  'steelblue']\n",
        "#explode = (0.0, 0.2)\n",
        "#plt.title(\"City Hotel-Stay of tourist with and without kids \",fontweight=\"bold\", size=12)\n",
        "plt.figtext(0.75, 0.75, \"City Hotel-\", fontsize='large', color='r', ha ='right',fontweight=\"bold\")# Display title's some words in red color.\n",
        "plt.figtext(0.75, 0.75, \"Stay of tourist with and without kids\", fontsize='large', color='k', ha ='left') # Display title's rest of words in black color.\n",
        "plt.pie(hba_df_city_only_f['family1_city'].value_counts().tolist(),labels = hba_df_city_only_f['family1_city'].value_counts().index.tolist(),autopct='%1.1f%%',textprops={'fontsize': 12},colors= colors, explode=explode)\n",
        "plt.subplot(1, 2, 2)\n",
        "plt.subplots_adjust(wspace=2) # wspace decides spacing between two charts\n",
        "plt.legend(['Without Kids','With Kids'],loc=1)\n",
        "plt.show()"
      ],
      "metadata": {
        "id": "l35ise9W05IN"
      },
      "execution_count": null,
      "outputs": []
    },
    {
      "cell_type": "markdown",
      "source": [
        "##### 1. Why did you pick the specific chart?"
      ],
      "metadata": {
        "id": "t6dVpIINYklI"
      }
    },
    {
      "cell_type": "markdown",
      "source": [
        "- If we have a dimension with just a couple of categories to compare, then a pie chart can help display each value of a category within the whole. The chart should read as a comparison of each group to each other, forming a whole category.\n",
        "- A one pie chart used here to show splitting of total number of guests between City Hotels and Resort Hotels.Here we want to show propotion of hotel bookings of these hotels, hence this chart is prefered.\n",
        "- Other pie charts used are displaying preference given to resort hotel or city hotel by family with kids.\n"
      ],
      "metadata": {
        "id": "5aaW0BYyYklI"
      }
    },
    {
      "cell_type": "markdown",
      "source": [
        "##### 2. What is/are the insight(s) found from the chart?"
      ],
      "metadata": {
        "id": "ijmpgYnKYklI"
      }
    },
    {
      "cell_type": "markdown",
      "source": [
        "- City hotels are getting more customers than resort hotels by 33%.\n",
        "- Families with kids, prefer Resort hotels more for stay than City hotels by 3%"
      ],
      "metadata": {
        "id": "PSx9atu2YklI"
      }
    },
    {
      "cell_type": "markdown",
      "source": [
        "##### 3. Will the gained insights help creating a positive business impact?\n",
        "Are there any insights that lead to negative growth? Justify with specific reason."
      ],
      "metadata": {
        "id": "-JiQyfWJYklI"
      }
    },
    {
      "cell_type": "markdown",
      "source": [
        "- The choice between City hotels vs resorts, depend on the **reason for travelling**.Location is often key when choosing a hotel to spend the night at.\n",
        "- To attract more tourists, **resort hotels** can give some **offers to childern and babies**, as resort hotels are best place for family.  "
      ],
      "metadata": {
        "id": "BcBbebzrYklV"
      }
    },
    {
      "cell_type": "markdown",
      "source": [
        "#### <font color=\"magenta\">Chart - 3"
      ],
      "metadata": {
        "id": "EM7whBJCYoAo"
      }
    },
    {
      "cell_type": "markdown",
      "source": [
        "<font color=\"red\">**Que:-Find yearwise booking in City hotels and Resort hotels**\n",
        "\n",
        "---\n",
        "\n"
      ],
      "metadata": {
        "id": "GPaKMdKvnVt2"
      }
    },
    {
      "cell_type": "code",
      "source": [
        "# Chart - 3 visualization code\n",
        "# Find yearwise booking in City hotels and Resort hotels\n",
        "\n",
        "ax=sns.countplot(x='arrival_date_year',hue='hotel', data=hba_df,palette='husl')\n",
        "plt.title(\"Arrivals per year in Both hotels \",fontweight=\"bold\", size=14)\n",
        "ax.set(xlabel='Year of Guest arrival', ylabel='Number of Hotel Guests')\n",
        "for p in ax.patches:\n",
        "   ax.annotate('{:.0f}'.format(p.get_height()), (p.get_x()+0.1, p.get_height()+0.01))\n",
        "plt.show()"
      ],
      "metadata": {
        "id": "t6GMdE67YoAp"
      },
      "execution_count": null,
      "outputs": []
    },
    {
      "cell_type": "markdown",
      "source": [
        "##### 1. Why did you pick the specific chart?"
      ],
      "metadata": {
        "id": "fge-S5ZAYoAp"
      }
    },
    {
      "cell_type": "markdown",
      "source": [
        "Countplot is used to Show the counts of observations in each categorical bin using bars.It is used here to show yearwise booking in City hotel and Resort hotel both."
      ],
      "metadata": {
        "id": "5dBItgRVYoAp"
      }
    },
    {
      "cell_type": "markdown",
      "source": [
        "##### 2. What is/are the insight(s) found from the chart?"
      ],
      "metadata": {
        "id": "85gYPyotYoAp"
      }
    },
    {
      "cell_type": "markdown",
      "source": [
        "We can see most of the bookings were in the year 2016 and bookings were done in City hotel most."
      ],
      "metadata": {
        "id": "4jstXR6OYoAp"
      }
    },
    {
      "cell_type": "markdown",
      "source": [
        "##### 3. Will the gained insights help creating a positive business impact?\n",
        "Are there any insights that lead to negative growth? Justify with specific reason."
      ],
      "metadata": {
        "id": "RoGjAbkUYoAp"
      }
    },
    {
      "cell_type": "markdown",
      "source": [
        "Tourism in year 2016 is highest than year 2015 and year 2017.\n",
        "Following questions(but not limited to) need to be answered to find cause of less tourists in year 2015 and year 2017.\n",
        "- Is it overall impact of the global recession?\n",
        "- Is there adverce climatic conditions in Year 2015 and Year 2017?\n",
        "- Is there rise of Airbnb in these years?"
      ],
      "metadata": {
        "id": "zfJ8IqMcYoAp"
      }
    },
    {
      "cell_type": "markdown",
      "source": [
        "#### <font color=\"magenta\">Chart - 4"
      ],
      "metadata": {
        "id": "4Of9eVA-YrdM"
      }
    },
    {
      "cell_type": "markdown",
      "source": [
        "**<font color=\"red\">Que:-a) Performing monthwise hotel occupancy analysis in every year**\n",
        "\n",
        "---\n",
        "\n"
      ],
      "metadata": {
        "id": "MWuJ56Dcnlwu"
      }
    },
    {
      "cell_type": "code",
      "source": [
        "#Filtering databframe year and month of guests arrival. Counting number of guests in each month per year\n",
        "ax=hba_df.groupby(['arrival_date_year','arrival_date_month']).apply('count').reset_index().sort_values(['arrival_date_year','hotel'],ascending=False)\n",
        "ax.iloc[:,0:3].head(5)\n"
      ],
      "metadata": {
        "id": "fkkECszX2hto"
      },
      "execution_count": null,
      "outputs": []
    },
    {
      "cell_type": "code",
      "source": [
        "# Chart - 4 visualization code\n",
        "\n",
        "sns.set(rc = {'figure.figsize':(16,5)})\n",
        "plt.xticks(fontsize=10)\n",
        "chart=sns.barplot(x=ax['arrival_date_month'], y=ax['hotel'], hue=ax['arrival_date_year'],width=0.5)\n",
        "chart.set_title('Monthwise Hotel Occupancy Analysis', fontsize=16, weight=\"bold\")\n",
        "chart.set_xlabel('Arrival Month of Guest', fontsize=14)\n",
        "chart.set_ylabel('Number of Guests', fontsize=14)\n",
        "plt.show()\n"
      ],
      "metadata": {
        "id": "irlUoxc8YrdO"
      },
      "execution_count": null,
      "outputs": []
    },
    {
      "cell_type": "markdown",
      "source": [
        "**<font color=\"red\">Que:- b) Let us find monthwise revenue of hotels per year**"
      ],
      "metadata": {
        "id": "eQ48hGduzCqs"
      }
    },
    {
      "cell_type": "code",
      "source": [
        "\n",
        "# Calculate the total revenue for each stay (weekend and weekday)\n",
        "hba_df['total_revenue'] =hba_df['adr'] * (hba_df['stays_in_weekend_nights'] + hba_df['stays_in_week_nights'])\n",
        "# Group the data by month and calculate the total revenue for each month\n",
        "revenue_by_month = hba_df.groupby(['arrival_date_month','arrival_date_year'])['total_revenue'].sum().reset_index()\n",
        "revenue_by_month.head(3)"
      ],
      "metadata": {
        "id": "XTqpOxYyn3P1"
      },
      "execution_count": null,
      "outputs": []
    },
    {
      "cell_type": "code",
      "source": [
        "plt.figure(figsize=(10, 6))\n",
        "sns.barplot(data =revenue_by_month, x=revenue_by_month['arrival_date_month'], y=revenue_by_month['total_revenue'] ,hue=revenue_by_month['arrival_date_year'] )\n",
        "plt.xlabel('Month',fontsize=12,fontweight= \"bold\")\n",
        "plt.ylabel('Revenue',fontsize=12,fontweight= \"bold\")\n",
        "plt.title('Revenue by Month',fontsize=14,fontweight= \"bold\")\n",
        "plt.xticks(rotation=45)\n",
        "plt.grid(True)\n",
        "plt.legend(title=\"Year of Arrival\",loc=0)\n",
        "plt.show()"
      ],
      "metadata": {
        "id": "5Chagvdwn2oP"
      },
      "execution_count": null,
      "outputs": []
    },
    {
      "cell_type": "markdown",
      "source": [
        "##### 1. Why did you pick the specific chart?"
      ],
      "metadata": {
        "id": "iky9q4vBYrdO"
      }
    },
    {
      "cell_type": "markdown",
      "source": [
        "Here relation between numerical variable and categorical variable need to be observed. Again yearwise distribution of data is needed. It is possible by hue parameter of barplot."
      ],
      "metadata": {
        "id": "aJRCwT6DYrdO"
      }
    },
    {
      "cell_type": "markdown",
      "source": [
        "##### 2. What is/are the insight(s) found from the chart?"
      ],
      "metadata": {
        "id": "F6T5p64dYrdO"
      }
    },
    {
      "cell_type": "markdown",
      "source": [
        "Hotel booking in every month per year is observed. Which helps in deep analysis of hotel guests per month.\n",
        "- **January** month is **least** busy month of year and it is true for all three\n",
        "years.\n",
        "\n",
        "- For **year 2017**-> **May is busiest** month for hotels.In september, october, November and December no any booking received by hotel.\n",
        "\n",
        "- In **year 2016**-> Most of hotel business happened in this year.Hotels are occupied in all months.**October is busiest** month for this year and April, May, June, August, September are moderatly crowded months of this year.\n",
        "\n",
        "- In **year 2015**-> Guest for hotels are in July,August, September, October, November and December months. Out of these in **September and October** months, **most of guests** are arrived.\n",
        "\n",
        "- But **Revenue is highest in August** month for **all years**.The variation in busiest month and most profitable month is may be because of change in Adr value.\n",
        "\n",
        "- **Revenue** collected in respective month **year 2017** is comparatively **more** than revenue collected in same month in year 2016, though tourists are more in 2016.\n"
      ],
      "metadata": {
        "id": "Xx8WAJvtYrdO"
      }
    },
    {
      "cell_type": "markdown",
      "source": [
        "##### 3. Will the gained insights help creating a positive business impact?\n",
        "Are there any insights that lead to negative growth? Justify with specific reason."
      ],
      "metadata": {
        "id": "y-Ehk30pYrdP"
      }
    },
    {
      "cell_type": "markdown",
      "source": [
        "**January** is low season of hotel occupancy for all years.\n",
        "\n",
        "1.   To increase tourists in this month, hoteliers can try for, running **loyalty programs**, to increase repeat guests at  hotel. Such loyalty programs will help  to increase  hotel's occupancy, by creating an even stronger relationship with  guests. For example, send personal emails by offering them **special discounts, offers, reward points** and much more to attract them.\n",
        "2.   In low season Hoteliers can use **unutilized spaces for different purposes** e.g garden for weddings, parties or events,use hall use for yoga or a dance class, family gathering or business meetings, etc.\n",
        "4.   Hoteliers can make **tie up with local businesses**.Speaking of partnerships, get in contact with local businesses to promote hotel as well as their business. This savvy two-way partnership reaps benefits when it comes to the off-season.  \n",
        "3.   Hoteliers can find reasons for poor hotel occupancy in January and can work on it."
      ],
      "metadata": {
        "id": "jLNxxz7MYrdP"
      }
    },
    {
      "cell_type": "markdown",
      "source": [
        "#### <font color=\"magenta\">Chart - 5"
      ],
      "metadata": {
        "id": "RIFhuC4h4JXQ"
      }
    },
    {
      "cell_type": "markdown",
      "source": [
        "**<font color=\"red\">Que:-Which type of rooms are mostly preferred by Guests**?"
      ],
      "metadata": {
        "id": "x-k1HP5ImH5u"
      }
    },
    {
      "cell_type": "code",
      "source": [
        "# Top 3 most common reserved room type\n",
        "# This code gives the count of reserved_room_type\n",
        "booking_types = hba_df.groupby([\"hotel\", \"reserved_room_type\"])[\"reserved_room_type\"].count().reset_index(name=\"count\") # Grouping hotel and reserved_room_type\n",
        "booking_types = booking_types.sort_values([\"hotel\", \"count\"], ascending=False) # Sorting the count values\n",
        "booking_types = booking_types.groupby(\"hotel\").head(3) # Filtering top three\n",
        "print(booking_types) # Printing the booking_types"
      ],
      "metadata": {
        "id": "iMFGUnYs4H14"
      },
      "execution_count": null,
      "outputs": []
    },
    {
      "cell_type": "code",
      "source": [
        "#Visualization\n",
        "fig, ax = plt.subplots(figsize=(8,4))\n",
        "n_hotels=['Resort Hotel','City Hotel']\n",
        "A_rooms=[23399,62595]\n",
        "D_rooms=[7433,11768]\n",
        "E_rooms=[4982,0]\n",
        "F_rooms=[0,1791]\n",
        "rooms_resort=['A =','D =','E =']\n",
        "rooms_city=['A =','D =','F=']\n",
        "plt.bar(n_hotels, A_rooms, color='g',label='A ',width= 0.25, edgecolor = \"black\", linewidth = 2)\n",
        "plt.bar(n_hotels, D_rooms, bottom= A_rooms, color='b',label='D',width= 0.25, edgecolor = \"black\", linewidth = 2)\n",
        "plt.bar(n_hotels, E_rooms, bottom= np.add(A_rooms, D_rooms), color='violet',label= 'E',width= 0.25, edgecolor = \"black\", linewidth = 2)\n",
        "plt.bar(n_hotels, F_rooms, bottom= np.add((np.add(A_rooms,D_rooms)) ,E_rooms), color='r', label='F',width= 0.25, edgecolor = \"black\", linewidth = 2)\n",
        "#Define Label\n",
        "plt.xlabel(\"Hotel Types\",color=\"#94F008\",fontweight=\"bold\",size = 16,fontstyle=\"oblique\")\n",
        "plt.ylabel(\"Rooms booked\",color=\"#94F008\",fontweight=\"bold\",size = 16,fontstyle=\"oblique\")\n",
        "# Displaying Vlues at centre of bar\n",
        "for bar in ax.patches:\n",
        "  ax.text(bar.get_x() + bar.get_width() / 2,\n",
        "          bar.get_height() / 3 + bar.get_y(),\n",
        "          round(bar.get_height()), ha = 'center',\n",
        "          color = 'w', weight = 'bold', size = 9)\n",
        "# Add legend\n",
        "plt.legend(title=\"Room Type\",loc=0)\n",
        "plt.show()"
      ],
      "metadata": {
        "id": "K-YfMGRe82fk"
      },
      "execution_count": null,
      "outputs": []
    },
    {
      "cell_type": "code",
      "source": [],
      "metadata": {
        "id": "eZw3OIndRaMt"
      },
      "execution_count": null,
      "outputs": []
    },
    {
      "cell_type": "markdown",
      "source": [
        "**<font color=\"orange\">Distribution of Room prices by hotels:-**"
      ],
      "metadata": {
        "id": "5bH5ti69xce2"
      }
    },
    {
      "cell_type": "code",
      "source": [
        "# The distribution of room prices by hotel\n",
        "# This code gives the average price for reserved room type per type of hotel\n",
        "price_distribution = hba_df.groupby([\"hotel\", \"reserved_room_type\"])[\"adr\"].mean().reset_index(name=\"avg_price\") # Grouping the hotel and reserved_room_type and finding average of adr\n",
        "price_distribution = price_distribution.sort_values([\"hotel\", \"avg_price\"], ascending=False) # Sorting the average price in descending order\n",
        "print(price_distribution)"
      ],
      "metadata": {
        "id": "1HW0PLUy4YCD"
      },
      "execution_count": null,
      "outputs": []
    },
    {
      "cell_type": "markdown",
      "source": [
        "##### 1. Why did you pick the specific chart?"
      ],
      "metadata": {
        "id": "TxVxmYV54r2G"
      }
    },
    {
      "cell_type": "markdown",
      "source": [
        "We want to move to a stacked bar chart when we care about the relative decomposition of each primary bar based on the levels of a second categorical variable.\n",
        "In stacked bar chart relative decomposition of booking of each room types based in the Resort hotels and City Hotels is displayed. Each bar is now comprised of a number of sub-bars, each one corresponding with a level of a perticular room type booked."
      ],
      "metadata": {
        "id": "akL5l0-8xyWc"
      }
    },
    {
      "cell_type": "markdown",
      "source": [
        "##### 2. What is/are the insight(s) found from the chart?"
      ],
      "metadata": {
        "id": "MQymokLe4zTV"
      }
    },
    {
      "cell_type": "markdown",
      "source": [
        "Tourists in both, Resort hotels and City Hotels prefer\n",
        "- **Room type 'A'** mostly for stay and next choice is **room type 'D'**\n",
        "\n",
        "- Highest rate charged by Resort hotels is for H type rooms\n",
        "\n",
        "- Highest rate charged by City hotels is for G type rooms"
      ],
      "metadata": {
        "id": "4nCbejY7x7s9"
      }
    },
    {
      "cell_type": "markdown",
      "source": [
        "##### 3. Will the gained insights help creating a positive business impact?\n",
        "Are there any insights that lead to negative growth? Justify with specific reason."
      ],
      "metadata": {
        "id": "hNBSW6K74YdG"
      }
    },
    {
      "cell_type": "markdown",
      "source": [
        "Rooms most in demands are A and D. Hoteliers can try to make these rooms  available more, in their infrastructure."
      ],
      "metadata": {
        "id": "7KKDiYYzyqfc"
      }
    },
    {
      "cell_type": "markdown",
      "source": [
        "#### <font color='magenta'>Chart - 6 - Booking Cancellation"
      ],
      "metadata": {
        "id": "bamQiAODYuh1"
      }
    },
    {
      "cell_type": "markdown",
      "source": [
        "**<font color='red'>Que: Checking is there any relationship exist between number of 'cancelled booking' with 'Room allotment other than reserved' to guest ?**\n",
        "\n",
        "---\n",
        "\n"
      ],
      "metadata": {
        "id": "wJkk8THCx-QJ"
      }
    },
    {
      "cell_type": "code",
      "source": [
        "# Creating new column which keeps boolean value 'Yes' if diiferent room than booked is alloted to guest else it contains 'No'\n",
        "\n",
        "hba_df['Is_different_room_assigned_than_reserved']=hba_df['assigned_room_type']\n",
        "n=len(hba_df['reserved_room_type'])\n",
        "for i in range(n):\n",
        "  if hba_df['reserved_room_type'].iloc[i]==hba_df['assigned_room_type'].iloc[i]:\n",
        "   hba_df['Is_different_room_assigned_than_reserved'].iloc[i]= 'No'\n",
        "  else:\n",
        "    hba_df['Is_different_room_assigned_than_reserved'].iloc[i]='Yes'\n",
        "\n",
        "hba_df['Is_different_room_assigned_than_reserved'].head(5)"
      ],
      "metadata": {
        "id": "pUymuzkfbVfg"
      },
      "execution_count": null,
      "outputs": []
    },
    {
      "cell_type": "code",
      "source": [
        "Booking_cancelled_or_not = hba_df.groupby(['is_canceled','Is_different_room_assigned_than_reserved']).count().reset_index()\n",
        "Booking_cancelled_or_not\n",
        "# Here Dataset is filtered based on cancellation of booking and 'Is Reserved Room Assigned' to guest or not?\n",
        "# 0 = No cancellation of booking and 1= Booking cancelled\n",
        "# 43422 hotel bookings are cancelled even though same which was reserved by guest is alloted  to guest and  802  hotel booking are cancelled when different room than reserved room is alloted  to guest.\n"
      ],
      "metadata": {
        "id": "-rCY6gg7Xh0C"
      },
      "execution_count": null,
      "outputs": []
    },
    {
      "cell_type": "code",
      "source": [
        "#Let us extract only cancelled booking based on room allotted is same or different than reserved.\n",
        "Hotel_bookings=list(Booking_cancelled_or_not['hotel'])\n",
        "Cancelled_bookings=Hotel_bookings[2:]\n",
        "Cancelled_bookings"
      ],
      "metadata": {
        "id": "oD33I2nTaPcH"
      },
      "execution_count": null,
      "outputs": []
    },
    {
      "cell_type": "code",
      "source": [
        "#Let us create list of same or different room assigned to guest from above table\n",
        "Alloted_different_room_than_reserved=list(Booking_cancelled_or_not['Is_different_room_assigned_than_reserved'])\n",
        "Room_different=Alloted_different_room_than_reserved[2:]\n",
        "Room_different"
      ],
      "metadata": {
        "id": "Ea840RG6cHte"
      },
      "execution_count": null,
      "outputs": []
    },
    {
      "cell_type": "code",
      "source": [
        "# Chart - 5 visualization code\n",
        "sns.set(rc = {'figure.figsize':(7,3)})\n",
        "plot1=sns.barplot(  x=Room_different, y=Cancelled_bookings,palette='hls', width=0.4)\n",
        "plot1.set_title('Relationship of Booking Cancellation with Room Allotment', fontsize=14, weight=\"bold\")\n",
        "plot1.set_xlabel('Different room assigned than reserved', fontsize=12,color='blue')\n",
        "plot1.set_ylabel(' cancelled bookings', fontsize=12,color='blue')\n",
        "plot1.bar_label(plot1.containers[0],color='red') # Mehod bar_label is used to display actual value of bar in barplot\n",
        "plt.show()"
      ],
      "metadata": {
        "id": "TIJwrbroYuh3"
      },
      "execution_count": null,
      "outputs": []
    },
    {
      "cell_type": "markdown",
      "source": [
        "##### 1. Why did you pick the specific chart?"
      ],
      "metadata": {
        "id": "QHF8YVU7Yuh3"
      }
    },
    {
      "cell_type": "markdown",
      "source": [
        "Bar charts should be used when we are showing segments of information. Vertical bar chart used here is useful to compare cancellations of bookings with room allotment to tourist."
      ],
      "metadata": {
        "id": "dcxuIMRPYuh3"
      }
    },
    {
      "cell_type": "markdown",
      "source": [
        "##### 2. What is/are the insight(s) found from the chart?"
      ],
      "metadata": {
        "id": "GwzvFGzlYuh3"
      }
    },
    {
      "cell_type": "markdown",
      "source": [
        "More number of booking cancellations happen though room allotment to guest is same as reseved room.\n",
        "**There is no much impact of different room allotment than required on booking cancellation**."
      ],
      "metadata": {
        "id": "uyqkiB8YYuh3"
      }
    },
    {
      "cell_type": "markdown",
      "source": [
        "##### 3. Will the gained insights help creating a positive business impact?\n",
        "Are there any insights that lead to negative growth? Justify with specific reason."
      ],
      "metadata": {
        "id": "qYpmQ266Yuh3"
      }
    },
    {
      "cell_type": "markdown",
      "source": [
        "Hoteliers can arrange more A type and D type rooms among all rooms in hotels as preference of these rooms is more."
      ],
      "metadata": {
        "id": "_WtzZ_hCYuh4"
      }
    },
    {
      "cell_type": "markdown",
      "source": [
        "#### <font color='magenta'>Chart - 7 - Adr"
      ],
      "metadata": {
        "id": "buCZ-frsb8Ub"
      }
    },
    {
      "cell_type": "markdown",
      "source": [
        "**<font color='red'>Que:-a) Finding Relationship of Booking Cancellation with Average Daily Rate.**\n",
        "\n",
        "**<font color='red'>Que:-b) Finding Relationship of number of hotel booking with  Average Daily rate.**\n",
        "\n",
        "**<font color='red'>Que:-c) Finding Relationship of Number of hotel bookings and Booking Cancellation.**\n",
        "\n",
        "\n",
        "---\n",
        "\n"
      ],
      "metadata": {
        "id": "NpBcPkLPn_cI"
      }
    },
    {
      "cell_type": "markdown",
      "source": [
        "Adr is Average daily Rate.ADR is measuring the average price of a hotel room over a given period."
      ],
      "metadata": {
        "id": "TCy0N0IqCrRW"
      }
    },
    {
      "cell_type": "code",
      "source": [
        "# Dataset is filtered Adr wise. Values of Adr and number of booking cancellation for respective adr is displayed below\n",
        "Adr_wise_grouping=hba_df.groupby('adr')['is_canceled'].sum().sort_values(ascending=False)\n",
        "df=Adr_wise_grouping.reset_index()\n",
        "df"
      ],
      "metadata": {
        "id": "0LK5CGgr5os6"
      },
      "execution_count": null,
      "outputs": []
    },
    {
      "cell_type": "code",
      "source": [
        "#Tocheck outliers let us draw box plot\n",
        "sns.set(rc = {'figure.figsize':(7,3)})\n",
        "sns.boxplot(x=df['adr'],palette=\"Set1\")\n",
        "plt.show()\n",
        "#Value af Adr after 1000 are outliers"
      ],
      "metadata": {
        "id": "kRmpBVOqmEEy"
      },
      "execution_count": null,
      "outputs": []
    },
    {
      "cell_type": "code",
      "source": [
        "#As we are finding relationship of Adr with number of cancelled booking, we removed those rows from dataframe in which booking cancellation was not done\n",
        "Adr_and_cancellations = df[ (df['is_canceled'] == 0) ].index\n",
        "new_df=df.drop(Adr_and_cancellations)\n",
        "new_df\n"
      ],
      "metadata": {
        "id": "ApoTQ3UnAfa9"
      },
      "execution_count": null,
      "outputs": []
    },
    {
      "cell_type": "code",
      "source": [
        "#Removing rows which has outliers\n",
        "adr_ouliers = new_df[ (new_df['adr'] > 1000)].index\n",
        "adr_ouliers_removed=new_df.drop(adr_ouliers)\n",
        "adr_ouliers_removed"
      ],
      "metadata": {
        "id": "0BA7INWqROFO"
      },
      "execution_count": null,
      "outputs": []
    },
    {
      "cell_type": "code",
      "source": [
        "#Distribution od Adr after removing outliers\n",
        "sns.set(rc = {'figure.figsize':(7,3)})\n",
        "sns.boxplot(x=adr_ouliers_removed['adr'],palette=\"Set1\")"
      ],
      "metadata": {
        "id": "k2wMjpwHjOtP"
      },
      "execution_count": null,
      "outputs": []
    },
    {
      "cell_type": "code",
      "source": [
        "#Adr and respective hotel bookings\n",
        "Adr_and_booking=hba_df.groupby('adr')['hotel'].count().sort_values(ascending=False)\n",
        "df1=Adr_and_booking.reset_index()\n",
        "adr_ouliers1 =  df1[(df1['adr'] > 1000)].index\n",
        "adr_ouliers_removed1=df1.drop(adr_ouliers1)\n",
        "adr_ouliers_removed1"
      ],
      "metadata": {
        "id": "XMCg-q3_TN58"
      },
      "execution_count": null,
      "outputs": []
    },
    {
      "cell_type": "code",
      "source": [
        "#Que:-Finding Relationship of Booking Cancellation with Average Daily Rate.\n",
        "#Que:-Finding Relationship of number of hotel booking with  Average Daily rate.\n",
        "sns.set_style('darkgrid')\n",
        "fig, axes = plt.subplots(2, 1,figsize=(10,5))\n",
        "plot2=sns.scatterplot(x=adr_ouliers_removed['adr'],y=adr_ouliers_removed['is_canceled'],ax=axes[0])\n",
        "axes[1].set_xlabel('Average Daily Rate(adr)', fontsize=14)\n",
        "axes[0].set_ylabel('cancelled bookings',fontsize=10)\n",
        "axes[1].set_ylabel('Hotel Bookings',fontsize=10)\n",
        "plot3=sns.scatterplot(x=adr_ouliers_removed1['adr'],y=adr_ouliers_removed1['hotel'],color='red',ax=axes[1])\n",
        "axes[0].set_title('Relationship of Booking Cancellation with Average Daily Rate',color='green')\n",
        "axes[1].set_title('Relationship of number of hotel booking with  Average Daily rate',color='green')\n",
        "fig.subplots_adjust(hspace=0.5) # Adjustment of the amount of height reserved for space between subplots expressed as a fraction of the average axis height.\n"
      ],
      "metadata": {
        "id": "xFXkQJs9bvBd"
      },
      "execution_count": null,
      "outputs": []
    },
    {
      "cell_type": "code",
      "source": [
        "# Finding relationship between Hotel booking and cancelled bookings based on adr value\n",
        "sns.set(rc = {'figure.figsize':(10,3)})\n",
        "plot4=sns.lineplot(x=adr_ouliers_removed1['hotel'],y=adr_ouliers_removed['is_canceled'],color=\"red\")\n",
        "plot4.set_title('Relationship of Number of hotel bookings and Booking Cancellation', fontsize=14, weight=\"bold\")\n",
        "plot4.set_xlabel('Hotel Bookings', fontsize=14,color=\"#94F008\",fontweight=\"bold\" )\n",
        "plot4.set_ylabel(' cancelled bookings', fontsize=14, color=\"#94F008\",fontweight=\"bold\")\n",
        "plt.show()\n"
      ],
      "metadata": {
        "id": "XvrUHSIoPmD0"
      },
      "execution_count": null,
      "outputs": []
    },
    {
      "cell_type": "markdown",
      "source": [
        "##### 1. Why did you pick the specific chart?"
      ],
      "metadata": {
        "id": "G44JeG9uTYv8"
      }
    },
    {
      "cell_type": "markdown",
      "source": [
        "Box plot is used for checking distribution and outliers in Average Daily Rate(Adr) column.As Adr and cancelled_booking both conatins numerical values,Scatter plot is used to find relationship between Adr and number of cancelled booking."
      ],
      "metadata": {
        "id": "tL12_dzaTYwM"
      }
    },
    {
      "cell_type": "markdown",
      "source": [
        "##### 2. What is/are the insight(s) found from the chart?"
      ],
      "metadata": {
        "id": "7pc4ZuhpTuOY"
      }
    },
    {
      "cell_type": "markdown",
      "source": [
        "Largest Adr value for which booking is cancelled is 5000.\n",
        "\n",
        "50% of Adr values lies between 70 to 175 range.\n",
        "In this range maximum cancellations are found.In same range of Adr, hotel bookings are comparitively more.Asper line chart it is observed that number of cancellations are directly propotional to number of bookings."
      ],
      "metadata": {
        "id": "frlcfNGqTuOj"
      }
    },
    {
      "cell_type": "markdown",
      "source": [
        "##### 3. Will the gained insights help creating a positive business impact?\n",
        "Are there any insights that lead to negative growth? Justify with specific reason."
      ],
      "metadata": {
        "id": "kemjS-qZTOrC"
      }
    },
    {
      "cell_type": "markdown",
      "source": [
        "- No impact of Adr value on Booking cancellation.\n",
        "- Getting more other hotel options for booking may be reason for booking cancellation here."
      ],
      "metadata": {
        "id": "oydXrXACTOrD"
      }
    },
    {
      "cell_type": "markdown",
      "source": [
        "#### <font color='magenta'>Chart - 8 - Lead time"
      ],
      "metadata": {
        "id": "OH-pJp9IphqM"
      }
    },
    {
      "cell_type": "markdown",
      "source": [
        "**<font color='red'>Que: Finding relationship between lead time, hotel bookings and booking cancellations**\n",
        "\n"
      ],
      "metadata": {
        "id": "KxDwmAWM1n3e"
      }
    },
    {
      "cell_type": "markdown",
      "source": [
        "The Booking Lead Time is the number of days between the time a guest books their room and the time they are scheduled to arrive at the hotel or Lead time is the time between reservation made and actual arrival of the customer."
      ],
      "metadata": {
        "id": "N3TcplwMBAJN"
      }
    },
    {
      "cell_type": "code",
      "source": [
        "lc=hba_df.groupby(['lead_time']).agg({'is_canceled':sum}).sort_values(by=['lead_time'],ascending=True).reset_index()\n",
        "lc"
      ],
      "metadata": {
        "id": "QGJFrZr-YGUW"
      },
      "execution_count": null,
      "outputs": []
    },
    {
      "cell_type": "code",
      "source": [
        "#Finding Outliers in lead time\n",
        "sns.set(rc = {'figure.figsize':(7,3)})\n",
        "sns.boxplot(x=lc['lead_time'],palette=\"Set2\")"
      ],
      "metadata": {
        "id": "VS6hnO1Htu6f"
      },
      "execution_count": null,
      "outputs": []
    },
    {
      "cell_type": "markdown",
      "source": [
        "Asper above boxplot of lead time\n",
        "\n",
        "1) Values more than 700 are outliers. We will remove these outliers\n",
        "\n",
        "2)50% of leadtime values lies between 100 to 350\n"
      ],
      "metadata": {
        "id": "DgKr835OuMyd"
      }
    },
    {
      "cell_type": "code",
      "source": [
        "#Removing outliers in Lead time\n",
        "lead_time_ouliers =  lc[(lc['lead_time'] > 700)].index\n",
        "lc_ouliers_removed=lc.drop(lead_time_ouliers)\n",
        "lc_ouliers_removed.shape"
      ],
      "metadata": {
        "id": "o_uH9dCfv4Wd"
      },
      "execution_count": null,
      "outputs": []
    },
    {
      "cell_type": "code",
      "source": [
        "#Filtering hotel bookings based on lead time\n",
        "leadtime_and_hotels=hba_df.groupby(['lead_time'])['hotel'].agg('count').reset_index()\n",
        "leadtime_and_hotels"
      ],
      "metadata": {
        "id": "TNUuc3ke7kGf"
      },
      "execution_count": null,
      "outputs": []
    },
    {
      "cell_type": "code",
      "source": [
        "sns.set_style('darkgrid')\n",
        "fig, axes = plt.subplots(2,1,figsize=(10,4))\n",
        "\n",
        "sns.lineplot(x=lc_ouliers_removed['lead_time'],y=lc_ouliers_removed['is_canceled'],ax=axes[0])\n",
        "sns.lineplot(x=leadtime_and_hotels['lead_time'],y=leadtime_and_hotels['hotel'],ax=axes[1])\n",
        "axes[0].set_xlabel('Lead Time', fontsize=14,color='green')\n",
        "axes[1].set_xlabel('Lead Time', fontsize=14,color='green')\n",
        "axes[0].set_ylabel('cancelled bookings',fontsize=10,color='green')\n",
        "axes[1].set_ylabel('Hotel Bookings',fontsize=10,color='green')\n",
        "axes[0].set_title('Relationship of Booking Cancellation and lead time', color='brown')\n",
        "axes[1].set_title('Relationship of number of hotel booking and  lead time', color='brown')\n",
        "fig.subplots_adjust(hspace=1) # Adjustment of the amount of height reserved for space between subplots expressed as a fraction of the average axis height."
      ],
      "metadata": {
        "id": "KYwDCoi68tP4"
      },
      "execution_count": null,
      "outputs": []
    },
    {
      "cell_type": "markdown",
      "source": [
        "##### 1. Why did you pick the specific chart?"
      ],
      "metadata": {
        "id": "bbFf2-_FphqN"
      }
    },
    {
      "cell_type": "markdown",
      "source": [
        "To check trend, line chart is preferred.For checking how 'booking cancellations' varies with 'lead time' this plot is preferred here.\n",
        "As well as  'booking cancellations' relation with 'lead time' is plotted."
      ],
      "metadata": {
        "id": "loh7H2nzphqN"
      }
    },
    {
      "cell_type": "markdown",
      "source": [
        "##### 2. What is/are the insight(s) found from the chart?"
      ],
      "metadata": {
        "id": "_ouA3fa0phqN"
      }
    },
    {
      "cell_type": "markdown",
      "source": [
        "Findings\n",
        "\n",
        "1)   As lead time inceases booking cancellation decreases\n",
        "\n",
        "2)  Number of bookings are more at last minutes. Lesser the leadtime more the bookings."
      ],
      "metadata": {
        "id": "VECbqPI7phqN"
      }
    },
    {
      "cell_type": "markdown",
      "source": [
        "##### 3. Will the gained insights help creating a positive business impact?\n",
        "Are there any insights that lead to negative growth? Justify with specific reason."
      ],
      "metadata": {
        "id": "Seke61FWphqN"
      }
    },
    {
      "cell_type": "markdown",
      "source": [
        " It is heard in almost every business: “Lately, the business is coming very last minute.” Most of time in hotel business, Singles will get booked at the last minute, while  Family rooms will be get booked early.\n",
        "Though cancellations are more with smaller lead time, it is observed that hotel booking are also more at that time.Foregin tourists make early bookings\n",
        "\n",
        "The cause of cancellations of booking -\n",
        "\n",
        "1)   There may be multiple options open to guests for hotel bookings\n",
        "\n",
        "2)  Asper human behaviour, singles will get hotel booked at the last minute, while your Triple and Family rooms will be get booked early.So the rooms booked with long lead time are kept without cancellations.\n",
        "\n",
        "3)  For planned international trips, it may be possible that International booking are done prior.Which are with high lead time and customers always prefer NOT to cancel them.\n",
        "\n",
        "4)  Lead time is given by mix of different factors such as market segment, source market, type of the hotel and location. Certain customers - segments tend to book within shorter lead time, for example  Business Traveler, (Corporate-between 21 - 0 days) or even same day: Airport layover.\n",
        "\n",
        "**Can hotel owners influence booking time(lead time) of their customers? Definitely yes!**\n",
        "\n",
        "- Most of the customers seek for “a great deal” and smart revenue leaders will price rooms strategically to encourage advanced lead time through:\n",
        "\n",
        "- Proactively identifying need period and plan commercial and revenue management strategies accordingly, at least 12 month ahead, however, thinking of events such as Olympic Games/fairs, up to 5 years ahead.\n",
        "\n",
        "- Hotel owners can define their booking conditions: Advance purchase and a stricter refund policy will support their strategy (Rule of thumb: the lower the price, the higher the fence)\n",
        "- Similarly as the airlines, hotel owners need to convince their customer: the sooner you book the better deal you will secure."
      ],
      "metadata": {
        "id": "DW4_bGpfphqN"
      }
    },
    {
      "cell_type": "markdown",
      "source": [
        "#### <font color='magenta'>Chart - 9 -Hotel Deposit\n",
        "**<font color='red'>Relationship to deposit type with number of booking cancellations**\n",
        "\n",
        "---\n",
        "\n"
      ],
      "metadata": {
        "id": "PIIx-8_IphqN"
      }
    },
    {
      "cell_type": "code",
      "source": [
        "#filtering dataset based on booking cancelled and deposit type\n",
        "deposit=hba_df.groupby(['is_canceled','deposit_type']).apply('count').reset_index().sort_values(['deposit_type'],ascending=False)\n",
        "deposit.head(2)\n"
      ],
      "metadata": {
        "id": "1pHXp1u_bORm"
      },
      "execution_count": null,
      "outputs": []
    },
    {
      "cell_type": "code",
      "source": [
        "#Droping NOT cancelled bookings from above deposit dataset\n",
        "not_cancelled =  deposit[(deposit['is_canceled'] == 0)].index\n",
        "cancelled=deposit.drop(not_cancelled)\n",
        "arr=cancelled.hotel.to_numpy()\n",
        "arr"
      ],
      "metadata": {
        "id": "jxkcRwmyeCQU"
      },
      "execution_count": null,
      "outputs": []
    },
    {
      "cell_type": "code",
      "source": [
        "#Total cancelled bokings\n",
        "tot_cancelled_bookings=cancelled['hotel'].sum()\n",
        "tot_cancelled_bookings"
      ],
      "metadata": {
        "id": "S0mIIX4cm86h"
      },
      "execution_count": null,
      "outputs": []
    },
    {
      "cell_type": "code",
      "source": [
        "#Compute Percentage of cancellation based on deposit type\n",
        "percentage = []\n",
        "\n",
        "for i in range(cancelled.shape[0]):\n",
        "    pct = (arr[i] / tot_cancelled_bookings) * 100\n",
        "    percentage.append(round(pct, 2))\n",
        "\n",
        "# display percentage\n",
        "print(percentage)\n",
        "\n",
        "# display data\n",
        "cancelled['Percentage'] = percentage\n",
        "display(cancelled)\n"
      ],
      "metadata": {
        "id": "zs1atB-KnTVP"
      },
      "execution_count": null,
      "outputs": []
    },
    {
      "cell_type": "code",
      "source": [
        "# Chart - 7 visualization code\n",
        "plt.figure(figsize=(5, 3))\n",
        "colors_list = ['Purple', 'Orange', 'Blue']\n",
        "graph = plt.bar(cancelled.deposit_type, cancelled.hotel, color=colors_list)\n",
        "plt.title('Cancelled bookings versus deposit type', color='red',pad=20)\n",
        "plt.xlabel('Deposit Type', fontsize=14, color='green')\n",
        "plt.ylabel(' cancelled bookings', fontsize=14, color='green')\n",
        "\n",
        "i = 0\n",
        "for p in graph:\n",
        "    width = p.get_width()\n",
        "    height = p.get_height()\n",
        "    x, y = p.get_xy()\n",
        "\n",
        "    plt.text(x+width/2,\n",
        "             y+height*1.01,\n",
        "             str(percentage[i])+'%',\n",
        "             ha='center',\n",
        "             weight='bold')\n",
        "    i += 1\n",
        "plt.show()"
      ],
      "metadata": {
        "id": "lqAIGUfyphqO"
      },
      "execution_count": null,
      "outputs": []
    },
    {
      "cell_type": "markdown",
      "source": [
        "##### 1. Why did you pick the specific chart?"
      ],
      "metadata": {
        "id": "t27r6nlMphqO"
      }
    },
    {
      "cell_type": "markdown",
      "source": [
        "To find relationship between categorical variable versus numerical variable, here the bivariant bar plot is selected."
      ],
      "metadata": {
        "id": "iv6ro40sphqO"
      }
    },
    {
      "cell_type": "markdown",
      "source": [
        "##### 2. What is/are the insight(s) found from the chart?"
      ],
      "metadata": {
        "id": "r2jJGEOYphqO"
      }
    },
    {
      "cell_type": "markdown",
      "source": [
        "-- Most of booking cancellations happened in 'No Deposit' category\n",
        "\n"
      ],
      "metadata": {
        "id": "Po6ZPi4hphqO"
      }
    },
    {
      "cell_type": "markdown",
      "source": [
        "##### 3. Will the gained insights help creating a positive business impact?\n",
        "Are there any insights that lead to negative growth? Justify with specific reason."
      ],
      "metadata": {
        "id": "b0JNsNcRphqO"
      }
    },
    {
      "cell_type": "markdown",
      "source": [
        "-- Hotel guest whose reservations did not include a deposit make up the majority of the cancellations. Hotels may not be able to offer the room that was reserved and canceled to other guests. This causes hotels to be impacted financially.\n",
        "\n",
        "-- Reservations that do not require a deposit at the time of booking offer no security blanket for the hotel, whereas non-refundable and refundable deposits do.\n",
        "\n",
        "-- Non-refundable deposits are kept by the hotel if the guest cancels their reservation and therefore still results in a profit for the hotel. Refundable deposits are given back to the guest if the reservation is canceled and therefore increases customer satisfaction with the hotel's customer service.\n",
        "\n",
        "-- The graph  displays the total number of 'booking cancellations' split up by deposit type. The majority of 'booking cancellations' lie in the 'No Deposit' section. Again, this is an issue for hotels because they can be financially impacted if these guests cancel. Therefore, there should be an effort made to migrate this population either to non-refundable or refundable deposits. This can be done through marketing or simply **not offering reservations that don't require a deposit**."
      ],
      "metadata": {
        "id": "BZR9WyysphqO"
      }
    },
    {
      "cell_type": "markdown",
      "source": [
        "### <font color='magenta'>Chart-10 - Waiting List"
      ],
      "metadata": {
        "id": "aemPTULh3QZ9"
      }
    },
    {
      "cell_type": "markdown",
      "source": [
        "**<font color='red'>Ques:-Is waiting list time affects cancellation of bookings?**\n",
        "\n",
        "---\n",
        "\n"
      ],
      "metadata": {
        "id": "D2yPbvpf16JA"
      }
    },
    {
      "cell_type": "code",
      "source": [
        "wt=hba_df.groupby(['days_in_waiting_list','arrival_date_year'])['is_canceled'].sum().reset_index()\n",
        "wt"
      ],
      "metadata": {
        "id": "upSroYHqF5sd"
      },
      "execution_count": null,
      "outputs": []
    },
    {
      "cell_type": "code",
      "source": [
        "#Finding Outliers\n",
        "sns.set(rc = {'figure.figsize':(10,3)})\n",
        "plt.subplot(1, 2, 1)\n",
        "sns.boxplot(x=wt['days_in_waiting_list'],palette=\"Set2\")\n",
        "plt.subplot(1, 2, 2)\n",
        "sns.boxplot(x=wt['is_canceled'],palette=\"Set1\")"
      ],
      "metadata": {
        "id": "2ULrNUcWT2V7"
      },
      "execution_count": null,
      "outputs": []
    },
    {
      "cell_type": "code",
      "source": [
        "#Removing outliers\n",
        "#For days in waiting list here we remove values after 250\n",
        "# For is_canceled column here we remove values after 500\n",
        "wt_ouliers1 =  wt[(wt['days_in_waiting_list'] > 250) ].index\n",
        "wt_ouliers2 =  wt[(wt['is_canceled'] > 500)].index\n",
        "wt_ouliers_removed1=wt.drop(wt_ouliers1)\n",
        "wt_ouliers_removed2=wt_ouliers_removed1.drop(wt_ouliers2)\n"
      ],
      "metadata": {
        "id": "OZibLKqEUU79"
      },
      "execution_count": null,
      "outputs": []
    },
    {
      "cell_type": "code",
      "source": [
        "#Keeping only outliers\n",
        "# For is_canceled column here we remove values below 500\n",
        "wt_ouliers3 =  wt[(wt['is_canceled'] < 500)].index\n",
        "wt_ouliers_only=wt.drop(wt_ouliers3)\n"
      ],
      "metadata": {
        "id": "ldp8WXiMjLpX"
      },
      "execution_count": null,
      "outputs": []
    },
    {
      "cell_type": "code",
      "source": [
        "# Chart - 8 visualization code\n",
        "plt.subplots(figsize=(18,6))\n",
        "sns.set_style('darkgrid')\n",
        "plt.subplot(2, 1, 1)\n",
        "ax1=sns.pointplot(x=wt_ouliers_removed2['days_in_waiting_list'],y=wt_ouliers_removed2['is_canceled'],hue= wt_ouliers_removed2['arrival_date_year'])\n",
        "plt.ylabel('Cancelled Bookings',fontsize=12, color='green')\n",
        "plt.title('Relationship of Booking Cancellation and Number of days in waiting list', color='brown')\n",
        "plt.xlabel('Days in waiting list',fontsize=14,color='green',labelpad=7)\n",
        "plt.xticks(fontsize=8)\n",
        "plt.xticks(rotation=90)\n",
        "plt.legend(title='Year')\n",
        "#plt.xticks(range(0,240,5))\n",
        "#x_ticks = np.arange(0, 250,5) #we set the intervals of x ticks by using the range() method in matplotlib.\n",
        "#ax1.set_xticks(x_ticks)\n",
        "#ax1 = plt.axes()\n",
        "\n",
        "plt.subplot(2, 1, 2)\n",
        "sns.pointplot(x=wt_ouliers_only['days_in_waiting_list'],y=wt_ouliers_only['is_canceled'],hue= wt_ouliers_only['arrival_date_year'])\n",
        "plt.ylabel('Cancelled Bookings',fontsize=12, color='green')\n",
        "plt.xlabel('Days in waiting list',fontsize=14,color='green')\n",
        "plt.legend(title='Year')\n",
        "plt.subplots_adjust(hspace=0.5)\n",
        "plt.show()"
      ],
      "metadata": {
        "id": "TdPTWpAVphqO"
      },
      "execution_count": null,
      "outputs": []
    },
    {
      "cell_type": "markdown",
      "source": [
        "##### 1. Why did you pick the specific chart?"
      ],
      "metadata": {
        "id": "jj7wYXLtphqO"
      }
    },
    {
      "cell_type": "markdown",
      "source": [
        "To check specific trend line chart is used, hence it is prefered here."
      ],
      "metadata": {
        "id": "Ob8u6rCTphqO"
      }
    },
    {
      "cell_type": "markdown",
      "source": [
        "##### 2. What is/are the insight(s) found from the chart?"
      ],
      "metadata": {
        "id": "eZrbJ2SmphqO"
      }
    },
    {
      "cell_type": "markdown",
      "source": [
        "- Higest booking cancellations happening even though there is NO waiting time.\n",
        "- Cancellation of booking are mostly in year 2016"
      ],
      "metadata": {
        "id": "mZtgC_hjphqO"
      }
    },
    {
      "cell_type": "markdown",
      "source": [
        "##### 3. Will the gained insights help creating a positive business impact?\n",
        "Are there any insights that lead to negative growth? Justify with specific reason."
      ],
      "metadata": {
        "id": "rFu4xreNphqO"
      }
    },
    {
      "cell_type": "markdown",
      "source": [
        "Hoteliers can work to achieve zero cancellation rate for any waiting time or try to give zero waiting time to customer because a long wait for hotel check-in can be painful for guests arriving after a grueling day of travel and naturally has an extremely **negative impact on guest satisfaction scores**."
      ],
      "metadata": {
        "id": "ey_0qi68phqO"
      }
    },
    {
      "cell_type": "markdown",
      "source": [
        "#### <font color='magenta'>Chart - 11- Weekend and Weekday booking"
      ],
      "metadata": {
        "id": "YJ55k-q6phqO"
      }
    },
    {
      "cell_type": "markdown",
      "source": [
        "<font color='red'>1) Weekend night bookings\n",
        "\n",
        "<font color='red'>2) Weekend night booking cancellation\n",
        "\n",
        "<font color='red'>3) Weekday night bookings\n",
        "\n",
        "<font color='red'>4) Weekday night booking cancellation\n",
        "\n",
        "<font color='red'>5) Weekend night booking cancellation in percentage\n",
        "\n",
        "<font color='red'>6) Weekday night booking cancellation in percentage\n",
        "\n",
        "\n",
        "---\n",
        "\n"
      ],
      "metadata": {
        "id": "9YD-y2k7aauk"
      }
    },
    {
      "cell_type": "markdown",
      "source": [
        "**<font color='cyan'>Weekend**"
      ],
      "metadata": {
        "id": "dS8w151B2IG6"
      }
    },
    {
      "cell_type": "code",
      "source": [
        "#Identifying outliers for stays in weekend nights\n",
        "sns.set(rc = {'figure.figsize':(5,3)})\n",
        "sns.boxplot(x=hba_df['stays_in_weekend_nights'],palette=\"Set3\")\n"
      ],
      "metadata": {
        "id": "3hXWgsz-GEpE"
      },
      "execution_count": null,
      "outputs": []
    },
    {
      "cell_type": "code",
      "source": [
        "#Removing outliers in stays in weekend nights\n",
        "#Let us consider more than 10 nights are outliers\n",
        "wn_ouliers =  hba_df[(hba_df['stays_in_weekend_nights'] > 10)].index\n",
        "wn_ouliers_removed = hba_df.drop(wn_ouliers)\n",
        "wn_ouliers_removed.shape"
      ],
      "metadata": {
        "id": "ndyp0wjEGvxN"
      },
      "execution_count": null,
      "outputs": []
    },
    {
      "cell_type": "code",
      "source": [
        "# Removing '0' stays at weekend nights\n",
        "wn_zero=wn_ouliers_removed[(wn_ouliers_removed['stays_in_weekend_nights'] == 0)].index\n",
        "wn_zero_stay_removed =wn_ouliers_removed.drop(wn_zero)\n",
        "wn_zero_stay_removed.shape\n"
      ],
      "metadata": {
        "id": "5SpNFna2_jNe"
      },
      "execution_count": null,
      "outputs": []
    },
    {
      "cell_type": "code",
      "source": [
        "wn_zero_stay_removed.head(2)"
      ],
      "metadata": {
        "id": "NDoYCU6D-fKK"
      },
      "execution_count": null,
      "outputs": []
    },
    {
      "cell_type": "code",
      "source": [
        "# Chart - 11(a) visualization code\n",
        "# Stays on weekends, bookings and cancellations\n",
        "plt.figure(figsize=(15,7))\n",
        "#'graph_wendn' -This is plotting 'stays on weekend nights' versus 'hotel bookings'\n",
        "plt.subplot(2, 1, 1)\n",
        "graph_wendn=sns.countplot(x='stays_in_weekend_nights', data=wn_zero_stay_removed, palette='cool')\n",
        "graph_wendn.tick_params(axis='x', colors='red') # Applying 'red' color to Xticks\n",
        "plt.title(\"Number of stays on weekend nights\",fontweight=\"bold\", size=18)\n",
        "# labels for x & y axis\n",
        "plt.xlabel('stays on weekend nights',color='green',fontweight='bold')\n",
        "plt.ylabel('Weekend bookings',color='green',fontweight='bold')\n",
        "# Displaying value\n",
        "for p in graph_wendn.patches :\n",
        "   graph_wendn.annotate('{:.0f}'.format(p.get_height()), (p.get_x()+0.2, p.get_height()+0.2))\n",
        "\n",
        "#'graph_wendn_c' -This is plotting 'stays on weekend nights' versus 'hotel bookings cancellations'\n",
        "plt.subplot(2, 1, 2)\n",
        "graph_wendn_c=sns.countplot(data =wn_zero_stay_removed, x = 'stays_in_weekend_nights', hue='is_canceled', palette='rocket')\n",
        "graph_wendn_c.tick_params(axis='x', colors='red') # Applying 'red' color to Xticks\n",
        "\n",
        "for p in graph_wendn_c.patches:\n",
        "   graph_wendn_c.annotate('{:.0f}'.format(p.get_height()), (p.get_x(), p.get_height()+0.2))\n",
        "plt.title('WeekendStay vs Cancellation',fontweight=\"bold\", size=18)\n",
        "plt.xlabel('stays on weekend nights',color='green',fontweight='bold')\n",
        "plt.ylabel('Bookings- cancelled or NOT ',color='green',fontweight='bold')\n",
        "plt.legend(['NOT cancelled', 'Cancelled'],title='Cancellation')\n",
        "\n",
        "plt.subplots_adjust(hspace=0.4)\n",
        "plt.show()\n"
      ],
      "metadata": {
        "id": "B2aS4O1ophqO"
      },
      "execution_count": null,
      "outputs": []
    },
    {
      "cell_type": "markdown",
      "source": [
        "**<font color='cyan'>Weekdays**"
      ],
      "metadata": {
        "id": "UQkq7dTC2yvx"
      }
    },
    {
      "cell_type": "code",
      "source": [
        "#Identifying outliers for stays in week nights\n",
        "sns.set(rc = {'figure.figsize':(5,3)})\n",
        "sns.boxplot(x=hba_df['stays_in_week_nights'],palette=\"Set3\")"
      ],
      "metadata": {
        "id": "qRo_Af14Jjgq"
      },
      "execution_count": null,
      "outputs": []
    },
    {
      "cell_type": "code",
      "source": [
        "#Removing outliers in stays in week nights\n",
        "#Let us consider more than 10 nights are outliers\n",
        "wn1_ouliers =  hba_df[(hba_df['stays_in_week_nights'] > 10)].index\n",
        "wn1_ouliers_removed = hba_df.drop(wn1_ouliers)\n",
        "wn1_ouliers_removed.shape"
      ],
      "metadata": {
        "id": "CleOIhnkJ19D"
      },
      "execution_count": null,
      "outputs": []
    },
    {
      "cell_type": "code",
      "source": [
        "# Removing '0' stays at week nights\n",
        "weekn_zero=wn1_ouliers_removed[(wn1_ouliers_removed['stays_in_week_nights'] == 0)].index\n",
        "weekn_zero_stay_removed =wn1_ouliers_removed.drop(weekn_zero)\n",
        "weekn_zero_stay_removed.shape"
      ],
      "metadata": {
        "id": "6P68pg_z6oR1"
      },
      "execution_count": null,
      "outputs": []
    },
    {
      "cell_type": "code",
      "source": [
        "# Chart - 11(b) visualization code\n",
        "#Weekstays\n",
        "#'graph_weekstay' -This is plotting 'stays on week nights' versus 'hotel bookings'\n",
        "plt.figure(figsize=(14, 6))\n",
        "plt.subplot(2, 1, 1)\n",
        "graph_weekstay=sns.countplot(x='stays_in_week_nights', data=weekn_zero_stay_removed, palette='rainbow_r')\n",
        "plt.title(\"Number of stays on weekday nights\",fontweight=\"bold\", size=18)\n",
        "plt.xlabel('stays on week nights',color='green',fontweight='bold')\n",
        "plt.ylabel('Week day bookings',color='green',fontweight='bold')\n",
        "graph_weekstay.tick_params(axis='x', colors='red') # Applying 'red' color to Xticks\n",
        "# Displaying value\n",
        "for p in graph_weekstay.patches :\n",
        "   graph_weekstay.annotate('{:.0f}'.format(p.get_height()), (p.get_x()+0.2, p.get_height()+0.2))\n",
        "\n",
        "#'graph_weekstay_c' -This is plotting 'stays on week nights' versus 'hotel bookings cancellations'\n",
        "\n",
        "plt.subplot(2, 1, 2)\n",
        "graph_weekstay_c=sns.countplot(data = weekn_zero_stay_removed, x = 'stays_in_week_nights', hue='is_canceled', palette='magma_r')\n",
        "graph_weekstay_c.tick_params(axis='x', colors='red') # Applying 'red' color to Xticks\n",
        "\n",
        "for p in graph_weekstay_c.patches:\n",
        "   graph_weekstay_c.annotate('{:.0f}'.format(p.get_height()), (p.get_x(), p.get_height()+0.2))\n",
        "plt.title('WeekStay vs Cancellations',fontweight=\"bold\", size=18)\n",
        "plt.xlabel('stays on week nights',color='green',fontweight='bold')\n",
        "plt.ylabel('Bookings- cancelled or NOT ',color='green',fontweight='bold')\n",
        "plt.legend(['NOT cancelled', 'Cancelled'],title='Cancellation')\n",
        "plt.subplots_adjust(hspace=0.5)"
      ],
      "metadata": {
        "id": "bOKNwASdbu7_"
      },
      "execution_count": null,
      "outputs": []
    },
    {
      "cell_type": "markdown",
      "source": [
        "**<font color='orange'>Find weekend, weekdays stay's booking cancellation in percentage :-**"
      ],
      "metadata": {
        "id": "Xo46_71P3Fuh"
      }
    },
    {
      "cell_type": "code",
      "source": [
        "# Weekend\n",
        "filter_weekend=wn_zero_stay_removed.groupby(['stays_in_weekend_nights','is_canceled'])['hotel'].count().reset_index()\n",
        "filter_weekend.sort_values('stays_in_weekend_nights').head(3)"
      ],
      "metadata": {
        "id": "bjmIQi77eXIw"
      },
      "execution_count": null,
      "outputs": []
    },
    {
      "cell_type": "code",
      "source": [
        "filter_weekend1=wn_zero_stay_removed.groupby('stays_in_weekend_nights')['hotel'].count().reset_index()\n",
        "filter_weekend1.sort_values('stays_in_weekend_nights').head(3)"
      ],
      "metadata": {
        "id": "LukBY22hexGI"
      },
      "execution_count": null,
      "outputs": []
    },
    {
      "cell_type": "code",
      "source": [
        "len1_wend=len(filter_weekend1['hotel'])\n",
        "len2_wend=len(filter_weekend['stays_in_weekend_nights'])\n",
        "filter_weekend['total']=filter_weekend['stays_in_weekend_nights']\n",
        "for i in range(len2_wend):\n",
        "  for k in range (len1_wend):\n",
        "    if filter_weekend['stays_in_weekend_nights'][i]== filter_weekend1['stays_in_weekend_nights'][k]:\n",
        "      filter_weekend['total'][i]=filter_weekend1['hotel'][k]\n",
        "\n",
        "filter_weekend.head(4)"
      ],
      "metadata": {
        "id": "W6RfgBLve4wA"
      },
      "execution_count": null,
      "outputs": []
    },
    {
      "cell_type": "code",
      "source": [
        "#Finding cancellation of booking or Not cancellation in percentage for weekend stays\n",
        "filter_weekend['percentage']=(100*filter_weekend['hotel'])/filter_weekend['total']\n",
        "filter_weekend.round(1).head(10)"
      ],
      "metadata": {
        "id": "UN07yoCJe_Sh"
      },
      "execution_count": null,
      "outputs": []
    },
    {
      "cell_type": "code",
      "source": [
        "#weekday stay\n",
        "filter_weekday=weekn_zero_stay_removed.groupby(['stays_in_week_nights','is_canceled'])['hotel'].count().reset_index()\n",
        "filter_weekday.sort_values('stays_in_week_nights').head(3)\n"
      ],
      "metadata": {
        "id": "En4FjJ0ofLa8"
      },
      "execution_count": null,
      "outputs": []
    },
    {
      "cell_type": "code",
      "source": [
        "filter_weekday1=weekn_zero_stay_removed.groupby('stays_in_week_nights')['hotel'].count().reset_index()\n",
        "filter_weekday1.sort_values('stays_in_week_nights').head(3)"
      ],
      "metadata": {
        "id": "9GDJMITofLDU"
      },
      "execution_count": null,
      "outputs": []
    },
    {
      "cell_type": "code",
      "source": [
        "len3_wday=len(filter_weekday1['hotel'])\n",
        "len4_wday=len(filter_weekday['stays_in_week_nights'])\n",
        "filter_weekday['total']=filter_weekday['stays_in_week_nights']\n",
        "for i in range(len4_wday):\n",
        "  for k in range (len3_wday):\n",
        "    if filter_weekday['stays_in_week_nights'][i]== filter_weekday1['stays_in_week_nights'][k]:\n",
        "      filter_weekday['total'][i]=filter_weekday1['hotel'][k]\n",
        "\n",
        "filter_weekday.head(4)"
      ],
      "metadata": {
        "id": "CZVuk6Jm1mOm"
      },
      "execution_count": null,
      "outputs": []
    },
    {
      "cell_type": "code",
      "source": [
        "#Finding cancellation of booking or Not cancellation in percentage for weekday stays\n",
        "filter_weekday['percentage']=(100*filter_weekday['hotel'])/filter_weekday['total']\n",
        "filter_weekday.round(1).head(4)"
      ],
      "metadata": {
        "id": "HQus-L_t2NB-"
      },
      "execution_count": null,
      "outputs": []
    },
    {
      "cell_type": "code",
      "source": [
        "#percentage -This is plotting 'stays on weekend nights' versus 'hotel bookings cancellations/not in percentage'\n",
        "plt.figure(figsize=(15,6))\n",
        "#'percentage_weekend' -This is plotting 'stays on weekend nights' versus 'hotel bookings cancellation or Not' in percent\n",
        "plt.subplot(2, 1, 1)\n",
        "\n",
        "percentage_weekend=sns.barplot(data=filter_weekend,x='stays_in_weekend_nights',y='percentage',hue='is_canceled',width=0.5)\n",
        "plt.title('WeekendStay vs Cancellation in percentage',fontweight=\"bold\", size=18)\n",
        "plt.xlabel('stays on weekend nights',color='green',fontweight='bold')\n",
        "plt.ylabel('Bookings- cancelled or NOT ',color='green',fontweight='bold')\n",
        "plt.legend(bbox_to_anchor=(1.05, 1.0), loc='upper left',title='Cancellation')# 0 = No cancellation and 1 = Cancellation of bookings\n",
        "\n",
        "for p in percentage_weekend.patches:\n",
        "   percentage_weekend.annotate('{:.1f}'.format(p.get_height()), (p.get_x(), p.get_height()+0.2))\n",
        "\n",
        "#'percentage_weekday' -This is plotting 'stays on weekday nights' versus 'hotel bookings cancellation or Not' in percent\n",
        "plt.subplot(2, 1, 2)\n",
        "percentage_weekday=sns.barplot(data=filter_weekday,x='stays_in_week_nights',y='percentage',hue='is_canceled',width=0.5)\n",
        "plt.title('WeekdayStay vs Cancellation in percentage',fontweight=\"bold\", size=18)\n",
        "plt.xlabel('stays on weekday nights',color='green',fontweight='bold')\n",
        "plt.ylabel('Bookings- cancelled or NOT ',color='green',fontweight='bold')\n",
        "plt.legend(bbox_to_anchor=(1.05, 1.0), loc='upper left',title='Cancellation')# 0 = No cancellation and 1 = Cancellation of bookings\n",
        "\n",
        "for p in percentage_weekday.patches:\n",
        "   percentage_weekday.annotate('{:.1f}'.format(p.get_height()), (p.get_x(), p.get_height()+0.2))\n",
        "plt.subplots_adjust(hspace=0.5)"
      ],
      "metadata": {
        "id": "LxylO--tfKqH"
      },
      "execution_count": null,
      "outputs": []
    },
    {
      "cell_type": "markdown",
      "source": [
        "##### 1. Why did you pick the specific chart?"
      ],
      "metadata": {
        "id": "gCFgpxoyphqP"
      }
    },
    {
      "cell_type": "markdown",
      "source": [
        "- Bar chart is prefered here for bivarient analysis"
      ],
      "metadata": {
        "id": "TVxDimi2phqP"
      }
    },
    {
      "cell_type": "markdown",
      "source": [
        "##### 2. What is/are the insight(s) found from the chart?"
      ],
      "metadata": {
        "id": "OVtJsKN_phqQ"
      }
    },
    {
      "cell_type": "markdown",
      "source": [
        "-- Booking are comparatively more for 1 and 2 weekend night stays.\n",
        "\n",
        "-- For weekday night stays most of bookings are between 1 to 5 night stays.\n",
        "\n",
        "-- Booking cancellation for 1 day weekend night stay 3.5% more than weekday night stay.\n",
        "\n",
        "-- Almost 50% cancellation rate is there for both weekend and weekdays night stays.\n"
      ],
      "metadata": {
        "id": "ngGi97qjphqQ"
      }
    },
    {
      "cell_type": "markdown",
      "source": [
        "##### 3. Will the gained insights help creating a positive business impact?\n",
        "Are there any insights that lead to negative growth? Justify with specific reason."
      ],
      "metadata": {
        "id": "lssrdh5qphqQ"
      }
    },
    {
      "cell_type": "markdown",
      "source": [
        "Hoteliers can try for following:-\n",
        "1) Design Packages To Encourage Extended Weekend Stays And Mid-Week Bookings\n",
        "\n",
        "2)Offer Promotion Codes That Entice Guests To Extend Their Weekend Stays-To encourage hotel's weekend visitors to stay longer is to send them a promo code shortly after they have booked their rooms to let them know about hotel's great deal."
      ],
      "metadata": {
        "id": "tBpY5ekJphqQ"
      }
    },
    {
      "cell_type": "markdown",
      "source": [
        "#### <font color='magenta'>Chart - 12 - Distribution Channel"
      ],
      "metadata": {
        "id": "U2RJ9gkRphqQ"
      }
    },
    {
      "cell_type": "markdown",
      "source": [
        "Que: **<font color='red'>Which distribution channel gives most of early bookings?**"
      ],
      "metadata": {
        "id": "L4w632dLbt_K"
      }
    },
    {
      "cell_type": "markdown",
      "source": [
        "A hotel distribution strategy is a plan of action for selling rooms profitably through a variety of channels.\n",
        "This can be direct channels, such as a hotel's website or phone, indirect channels such as  online travel agencies(OTA), global distribution systems (GDS), metasearch sites and more."
      ],
      "metadata": {
        "id": "1zokgbpgcJCC"
      }
    },
    {
      "cell_type": "code",
      "source": [
        "# This will tell us about number of bookings through different channels\n",
        "hba_df.groupby('distribution_channel').size()"
      ],
      "metadata": {
        "id": "5DWCLMsA_kVH"
      },
      "execution_count": null,
      "outputs": []
    },
    {
      "cell_type": "code",
      "source": [
        "# This will show number of channels which are used for early booking. Let us consider bookings with lead time less than 30 is early booking\n",
        "early_booking_threshold = 30\n",
        "\n",
        "# Filter the dataset for bookings with lead time less than or equal to the threshold\n",
        "early_bookings = hba_df[hba_df['lead_time'] <= early_booking_threshold]\n",
        "\n",
        "# Group the filtered data by distribution channel and calculate the count of bookings for each channel\n",
        "booking_channels = early_bookings.groupby('distribution_channel').size().sort_values(ascending=False)\n",
        "booking_channels=booking_channels.iloc[0:3] #selecting first 3  rows of data\n",
        "booking_channels"
      ],
      "metadata": {
        "id": "w8ca262u_rOx"
      },
      "execution_count": null,
      "outputs": []
    },
    {
      "cell_type": "markdown",
      "source": [
        "-- TA stands for Travel Agents\n",
        "\n",
        "-- TO stands for Tour Operators\n",
        "-- TA/TO is the highest number of bookings channel compared to corporate, direct, and GDS"
      ],
      "metadata": {
        "id": "T-kGdUXzGDNx"
      }
    },
    {
      "cell_type": "code",
      "source": [
        "# Chart - 12 visualization code\n",
        "explode = (0.05, 0.0,0.0)\n",
        "plt.title(\"Bookings through different distribution channels \",fontweight=\"bold\", size=12)\n",
        "\n",
        "plt.pie(booking_channels,labels = booking_channels.index,autopct='%1.1f%%',textprops={'fontsize': 12},explode=explode)\n",
        "\n",
        "plt.legend(bbox_to_anchor=(1.05, 1.0), loc='upper left',title='Distribution Channels')\n",
        "plt.show()"
      ],
      "metadata": {
        "id": "GM7a4YP4phqQ"
      },
      "execution_count": null,
      "outputs": []
    },
    {
      "cell_type": "markdown",
      "source": [
        "##### 1. Why did you pick the specific chart?"
      ],
      "metadata": {
        "id": "1M8mcRywphqQ"
      }
    },
    {
      "cell_type": "markdown",
      "source": [
        "Pie chart is used to check, in what percent prefernce is given by hoteliers to each distribution channel."
      ],
      "metadata": {
        "id": "8agQvks0phqQ"
      }
    },
    {
      "cell_type": "markdown",
      "source": [
        "##### 2. What is/are the insight(s) found from the chart?"
      ],
      "metadata": {
        "id": "tgIPom80phqQ"
      }
    },
    {
      "cell_type": "markdown",
      "source": [
        "-- Out of total tourists, 66.6% tourists, with minimum lead time are coming through TA/TO distribution channel."
      ],
      "metadata": {
        "id": "Qp13pnNzphqQ"
      }
    },
    {
      "cell_type": "markdown",
      "source": [
        "##### 3. Will the gained insights help creating a positive business impact?\n",
        "Are there any insights that lead to negative growth? Justify with specific reason."
      ],
      "metadata": {
        "id": "JMzcOPDDphqR"
      }
    },
    {
      "cell_type": "markdown",
      "source": [
        "TA/TO distribution channel is preferred most"
      ],
      "metadata": {
        "id": "R4Ka1PC2phqR"
      }
    },
    {
      "cell_type": "markdown",
      "source": [
        "#### <font color='magenta'>Chart - 13 -\n",
        "**<font color='red'>Distribution of bookings by market segment and customer type**"
      ],
      "metadata": {
        "id": "x-EpHcCOp1ci"
      }
    },
    {
      "cell_type": "markdown",
      "source": [
        "Hotel market segmentation is the process of **grouping hotel guests into categories based on their booking patterns and travel habits**. By segmenting hotel guests into market groups, hoteliers are able to identify where their business is coming from, spot new business in the area, and drive hotel **revenue**.\n",
        "\n",
        "Transient - Transients are guests who are traveling individually, on their own, and are not part of any company or group. They make individual bookings on their own accord.\n",
        "\n",
        "Corporate - These are the guests that use company discounts and benefits to stay at the hotel. They get better hotel deals due to discounted company rates that apply to corporate clients.\n",
        "\n",
        "Group - Hotels usually allow groups of guests to use their premises under contracted rates that are flexible and based on the requirements.\n"
      ],
      "metadata": {
        "id": "RA8NHJtEfqsC"
      }
    },
    {
      "cell_type": "code",
      "source": [
        "# Distribution of bookings by market segment and customer type\n",
        "# This code gives the distribution of bookings by market segment and customer type\n",
        "bookings_by_market_customer = hba_df.groupby([\"market_segment\", \"customer_type\"])[\"hotel\"].count().reset_index(name=\"count\") # Grouping market_segment and customer_type\n",
        "bookings_by_market_customer.head(10)"
      ],
      "metadata": {
        "id": "O2lDQnvSHxPg"
      },
      "execution_count": null,
      "outputs": []
    },
    {
      "cell_type": "code",
      "source": [
        "# Chart - 12 visualization code\n",
        "f, ax = plt.subplots(figsize=(8, 5))\n",
        "sns.barplot(data=bookings_by_market_customer,y='market_segment',x='count',hue='customer_type',orient = 'h')\n",
        "plt.title('Booking through different Market Segments',fontweight=\"bold\", size=18)\n",
        "plt.xlabel('Hotel Bookings',color='green',fontweight='bold', size=12)\n",
        "plt.ylabel('Market Segments ',color='green',fontweight='bold', size=12)\n",
        "plt.show()"
      ],
      "metadata": {
        "id": "mAQTIvtqp1cj"
      },
      "execution_count": null,
      "outputs": []
    },
    {
      "cell_type": "markdown",
      "source": [
        "##### 1. Why did you pick the specific chart?"
      ],
      "metadata": {
        "id": "X_VqEhTip1ck"
      }
    },
    {
      "cell_type": "markdown",
      "source": [
        "Horizontal bar chart is preferred for more better visulization of extreme variations in hotel booking values."
      ],
      "metadata": {
        "id": "-vsMzt_np1ck"
      }
    },
    {
      "cell_type": "markdown",
      "source": [
        "##### 2. What is/are the insight(s) found from the chart?"
      ],
      "metadata": {
        "id": "8zGJKyg5p1ck"
      }
    },
    {
      "cell_type": "markdown",
      "source": [
        "1) Transient tourists, that are the guests which are travelling individually, prefer Online Travel Agent(TA) mostly for hotel booking.\n",
        "2) Online TA is prefered than Offline TA\n"
      ],
      "metadata": {
        "id": "ZYdMsrqVp1ck"
      }
    },
    {
      "cell_type": "markdown",
      "source": [
        "##### 3. Will the gained insights help creating a positive business impact?\n",
        "Are there any insights that lead to negative growth? Justify with specific reason."
      ],
      "metadata": {
        "id": "PVzmfK_Ep1ck"
      }
    },
    {
      "cell_type": "markdown",
      "source": [
        "As profit margin is always more on direct booking, hoteliers can try for maximizing hotel booking through Direct channel."
      ],
      "metadata": {
        "id": "druuKYZpp1ck"
      }
    },
    {
      "cell_type": "markdown",
      "source": [
        "#### <font color='magenta'>Chart - 14- Pricing and Revenue"
      ],
      "metadata": {
        "id": "n3dbpmDWp1ck"
      }
    },
    {
      "cell_type": "markdown",
      "source": [
        "**<font color='red'>Que:Which stay (weekend or weekday) generates more revenue?**"
      ],
      "metadata": {
        "id": "JwtRfHBFcVHr"
      }
    },
    {
      "cell_type": "code",
      "source": [
        "# This code will tell us about which stay makes more revenue weekend or weekdays\n",
        "# Calculate the total revenue for each stay (weekend and weekday)\n",
        "hba_df['total_revenue'] = hba_df['adr'] * (hba_df['stays_in_weekend_nights'] + hba_df['stays_in_week_nights'])\n",
        "\n",
        "# Group the data by stays in weekend nights and calculate the average revenue\n",
        "weekend_revenue = hba_df.groupby('stays_in_weekend_nights')['total_revenue'].mean()\n",
        "\n",
        "# Group the data by stays in weeknights and calculate the average revenue\n",
        "weekday_revenue = hba_df.groupby('stays_in_week_nights')['total_revenue'].mean()\n",
        "\n",
        "# Compare the average revenue for weekend stays and weekday stays\n",
        "if weekend_revenue.mean() > weekday_revenue.mean():\n",
        "    print(\"Weekend stays generate more revenue.\")\n",
        "else:\n",
        "    print(\"Weekday stays generate more revenue.\")"
      ],
      "metadata": {
        "id": "cRCinPI3LciB"
      },
      "execution_count": null,
      "outputs": []
    },
    {
      "cell_type": "markdown",
      "source": [
        "#### <font color='magenta'>Chart - 15 - Correlation Heatmap"
      ],
      "metadata": {
        "id": "NC_X3p0fY2L0"
      }
    },
    {
      "cell_type": "code",
      "source": [
        "# Correlation Heatmap visualization code\n",
        "numeric_columns = hba_df.select_dtypes(include='number')\n",
        "correlation_matrix = numeric_columns.corr()\n",
        "\n",
        "# Set up the figure size\n",
        "plt.figure(figsize=(20, 8))\n",
        "\n",
        "# Plot the correlation matrix\n",
        "sns.heatmap(correlation_matrix, annot=True, cmap=\"coolwarm\")\n",
        "\n",
        "# Show the plot\n",
        "plt.show()"
      ],
      "metadata": {
        "id": "xyC9zolEZNRQ"
      },
      "execution_count": null,
      "outputs": []
    },
    {
      "cell_type": "markdown",
      "source": [
        "##### 1. Why did you pick the specific chart?"
      ],
      "metadata": {
        "id": "UV0SzAkaZNRQ"
      }
    },
    {
      "cell_type": "markdown",
      "source": [
        "A heatmap (or heat map) is used here for a graphical representation of Correlation of variables of data where values are depicted by color."
      ],
      "metadata": {
        "id": "DVPuT8LYZNRQ"
      }
    },
    {
      "cell_type": "markdown",
      "source": [
        "##### 2. What is/are the insight(s) found from the chart?"
      ],
      "metadata": {
        "id": "YPEH6qLeZNRQ"
      }
    },
    {
      "cell_type": "markdown",
      "source": [
        "-- 'Stays in week nights' and 'stays in weekend nights' are positively correlatted with 'total revenue' column.This indicates as stays in weeknights or weekend nights increases, the revenue of hotel also increases.\n",
        "\n",
        "-- 'Cancellation' of booking is positively correlated with 'previous booking cancelled' and negatively correlated with 'previous booking NOT cancelled'. This indicates behavior pattern of guests also. The chances of booking cancellation are more from those who have cancelled previous bookings too.\n",
        "\n",
        "-- Strong positive correlation of 'Adr' with 'total revenue'is found. As Adr increases total revenue also inceases."
      ],
      "metadata": {
        "id": "bfSqtnDqZNRR"
      }
    },
    {
      "cell_type": "markdown",
      "source": [
        "#### <font color='magenta'>Chart - 16 - Pair Plot"
      ],
      "metadata": {
        "id": "q29F0dvdveiT"
      }
    },
    {
      "cell_type": "code",
      "source": [
        "# Pair Plot visualization code\n",
        "sns.pairplot(data=hba_df)"
      ],
      "metadata": {
        "id": "o58-TEIhveiU"
      },
      "execution_count": null,
      "outputs": []
    },
    {
      "cell_type": "markdown",
      "source": [
        "##### 1. Why did you pick the specific chart?"
      ],
      "metadata": {
        "id": "EXh0U9oCveiU"
      }
    },
    {
      "cell_type": "markdown",
      "source": [
        "data visualization that allows for a comprehensive exploration of relationships between pairs of variables in a dataset. Pair plots are created by plotting multiple scatterplots in a grid format, with each scatterplot representing the relationship between two variables."
      ],
      "metadata": {
        "id": "eMmPjTByveiU"
      }
    },
    {
      "cell_type": "markdown",
      "source": [
        "##### 2. What is/are the insight(s) found from the chart?"
      ],
      "metadata": {
        "id": "22aHeOlLveiV"
      }
    },
    {
      "cell_type": "markdown",
      "source": [
        "We can analyse data distribution and correlation of columns with one another"
      ],
      "metadata": {
        "id": "uPQ8RGwHveiV"
      }
    },
    {
      "cell_type": "markdown",
      "source": [
        "## **5. Solution to Business Objective**"
      ],
      "metadata": {
        "id": "JcMwzZxoAimU"
      }
    },
    {
      "cell_type": "markdown",
      "source": [
        "#### What do you suggest the client to achieve Business Objective ?\n",
        "Based on the exploratory data analysis of hotel bookings, there are several suggestions that can be made to achieve business objectives. Here are some of them:"
      ],
      "metadata": {
        "id": "8G2x9gOozGDZ"
      }
    },
    {
      "cell_type": "markdown",
      "source": [
        "*  **Understanding the peak booking seasons:** The analysis shows that May,June, July, and August are the busiest months for hotel bookings. So, the hotel can increase its prices during these months, offer special packages and deals, and prepare accordingly to accommodate more guests during this time.\n",
        "\n",
        "*  **Analyzing the booking channels and market segments:** The data shows that the majority of bookings are made through online travel agents and direct booking channels. The hotel can focus on improving its online presence and making it easy for customers to book directly from their website.\n",
        "\n",
        "*  **Managing lead times:** The analysis shows that longer lead times result in lower rates, and vice versa. The hotel can consider offering discounts for guests who book well in advance to incentivize early bookings, and also use less pricing to adjust rates based on demand.\n",
        "\n",
        "* **Enhancing customer experience:** The data suggests that guests who book a higher room type tend to give higher ratings. Hence, the hotel can consider upgrading guests to higher room types based on availability, and focus on delivering a high-quality experience to guests during their stay.\n",
        "\n",
        "* **Retaining repeat customers:** The analysis shows that repeat guests make up a very less portion of bookings. Hence, the hotel can consider implementing loyalty programs, offering discounts to repeat guests, and focusing on delivering a personalized experience to encourage repeat bookings."
      ],
      "metadata": {
        "id": "R4DhYlv3IqyN"
      }
    },
    {
      "cell_type": "markdown",
      "source": [
        "**January** is low season of hotel occupancy for all years.\n",
        "\n",
        "1.   To increase tourists in this month, hoteliers can try for, running **loyalty programs**, to increase repeat guests at  hotel. Such loyalty programs will help  to increase  hotel's occupancy, by creating an even stronger relationship with  guests. For example, send personal emails by offering them **special discounts, offers, reward points** and much more to attract them.\n",
        "2.   In low season Hoteliers can use **unutilized spaces for different purposes** e.g garden for weddings, parties or events,use hall use for yoga or a dance class, family gathering or business meetings, etc.\n",
        "4.   Hoteliers can make **tie up with local businesses**.Speaking of partnerships, get in contact with local businesses to promote hotel as well as their business. This savvy two-way partnership reaps benefits when it comes to the off-season."
      ],
      "metadata": {
        "id": "5wjIlaVAPQiv"
      }
    },
    {
      "cell_type": "markdown",
      "source": [
        "**To reduce last minute booking cancellation**\n",
        "Hotel mangement can try for following\n",
        "- Develop a cancellation policy\n",
        "\n",
        "- Collect deposit on a confirmed booking\n",
        "\n",
        "- Offer discounts to get confirmed bookings\n",
        "\n",
        "- Take complete payment at the time of booking\n",
        "\n",
        "- Mandate the credit card details to go ahead with the booking\n",
        "\n",
        "- Incorporate length of stay restrictions\n",
        "\n",
        "- Send reminders about bookings\n",
        "\n",
        "- Implement Overbooking Strategy\n",
        "\n",
        "- Use guest data to learn and adapt your process\n"
      ],
      "metadata": {
        "id": "pASKb0qOza21"
      }
    },
    {
      "cell_type": "markdown",
      "source": [
        "**<font color='skyblue'>Above mentioned suggestions will help to reduce last-minute booking cancellations and also boost  confirmed bookings and revenue.**"
      ],
      "metadata": {
        "id": "jwmwWxig2hSG"
      }
    },
    {
      "cell_type": "markdown",
      "source": [
        "# **Conclusion**"
      ],
      "metadata": {
        "id": "gCX9965dhzqZ"
      }
    },
    {
      "cell_type": "markdown",
      "source": [
        "* City hotels are getting more customers than resort hotels by 33%. Definitely need to spend the most targeting fund on those hotel.\n",
        "\n",
        "* Families with kids, prefer Resort hotels more for stay than City hotels by 3%\n",
        "\n",
        "* Tourism in year 2016 is highest than year 2015 and year 2017.\n",
        "Following questions(but not limited to) need to be answered to find cause of less tourists in year 2015 and year 2017.\n",
        "- - Is it overall impact of the global recession?\n",
        "- - Is there adverce climatic conditions in Year 2015 and Year 2017?\n",
        "- - Is there rise of Airbnb in these years?\n",
        "\n",
        "\n",
        "* For 'no deposit policies' rate of booking cancellation is high.\n",
        "\n",
        "* Target the peak period months, which are between May to Aug.Try to get maximum revenue in these months.\n",
        "\n",
        "* Hoteliers can find reasons for lowest hotel occupancy in month of January and can work on it.\n",
        "\n",
        "*  Majority of the guests are from Western Europe. Hoteliers should spend a significant amount of our budget on those area.The top 10 countries from where the bookings are made in descending oreder are PRT — Portugal, GBR — United Kingdom, FRA — France, ESP — Spain, DEU — Germany, ITA — Italy, IRL — Ireland, BEL — Belgium, BRA — Brazil, USA — United States of America.\n",
        "\n",
        "* Only 3% guests are repeated guests, Hoteliers should target their advertisement on guests to increase returning guests.\n",
        "\n",
        "* Repeated guests do not cancel their reservations. Of course there are some exceptions.\n",
        "\n",
        "* Rooms most in demands are A and D type.\n",
        "\n",
        "* Almost 50% cancellation rate is there for both weekend and weekdays night stays.\n",
        "\n",
        "* There is no much impact of different room allotment than required on booking cancellation.\n",
        "\n",
        "* In this range maximum cancellations are found.In same range of Adr, hotel bookings are comparitively more.\n",
        "\n",
        "*  Number of bookings are more at last minutes. Lesser the leadtime more the bookings.\n",
        "\n",
        "* Very low impact of waiting time on booking cancellation.\n",
        "\n",
        "* Most people do not seem to prefer to stay at the hotel for more than 1 week. But it seems normal to stay in resort hotels for up to 12-13 days. Although this changes according to the segments, staying longer than 15 days certainly creates outliers for each segment.\n",
        "\n",
        "* TA/TO is most preferred distribution channel.\n",
        "\n",
        "* Customers in the Aviation Segment are likely to arrive shortly due to business."
      ],
      "metadata": {
        "id": "jbb7VDHrKoBU"
      }
    }
  ]
}